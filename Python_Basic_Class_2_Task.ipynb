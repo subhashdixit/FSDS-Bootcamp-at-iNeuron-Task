{
 "cells": [
  {
   "cell_type": "markdown",
   "id": "0d0e8674",
   "metadata": {},
   "source": [
    "\n",
    "# 1. Try to extract data from index one to index 300 with a jump of 3."
   ]
  },
  {
   "cell_type": "code",
   "execution_count": 1,
   "id": "f97a215f",
   "metadata": {},
   "outputs": [
    {
     "data": {
      "text/plain": [
       "'h   r tnrrmglsnimeNGyosi dtfco'"
      ]
     },
     "execution_count": 1,
     "metadata": {},
     "output_type": "execute_result"
    }
   ],
   "source": [
    "s = \"this is My First Python programming class and i am learNING python string and its function\"\n",
    "s[1:300:3]"
   ]
  },
  {
   "cell_type": "markdown",
   "id": "5b60338d",
   "metadata": {},
   "source": [
    "# 2. Try to reverse a string without using reverse function"
   ]
  },
  {
   "cell_type": "code",
   "execution_count": 2,
   "id": "ec5cb326",
   "metadata": {},
   "outputs": [
    {
     "data": {
      "text/plain": [
       "'noitcnuf sti dna gnirts nohtyp GNINrael ma i dna ssalc gnimmargorp nohtyP tsriF yM si siht'"
      ]
     },
     "execution_count": 2,
     "metadata": {},
     "output_type": "execute_result"
    }
   ],
   "source": [
    "s[::-1]"
   ]
  },
  {
   "cell_type": "markdown",
   "id": "00719e71",
   "metadata": {},
   "source": [
    "# 3. Try to split a string after conversion of entire string in uppercase"
   ]
  },
  {
   "cell_type": "code",
   "execution_count": 4,
   "id": "d9e57d60",
   "metadata": {},
   "outputs": [
    {
     "data": {
      "text/plain": [
       "['THIS',\n",
       " 'IS',\n",
       " 'MY',\n",
       " 'FIRST',\n",
       " 'PYTHON',\n",
       " 'PROGRAMMING',\n",
       " 'CLASS',\n",
       " 'AND',\n",
       " 'I',\n",
       " 'AM',\n",
       " 'LEARNING',\n",
       " 'PYTHON',\n",
       " 'STRING',\n",
       " 'AND',\n",
       " 'ITS',\n",
       " 'FUNCTION']"
      ]
     },
     "execution_count": 4,
     "metadata": {},
     "output_type": "execute_result"
    }
   ],
   "source": [
    "s.upper().split(' ')"
   ]
  },
  {
   "cell_type": "markdown",
   "id": "569de775",
   "metadata": {},
   "source": [
    "# 4. Try to convert the whole string into lower case"
   ]
  },
  {
   "cell_type": "code",
   "execution_count": 5,
   "id": "d648208e",
   "metadata": {},
   "outputs": [
    {
     "data": {
      "text/plain": [
       "'this is my first python programming class and i am learning python string and its function'"
      ]
     },
     "execution_count": 5,
     "metadata": {},
     "output_type": "execute_result"
    }
   ],
   "source": [
    "s.lower()"
   ]
  },
  {
   "cell_type": "markdown",
   "id": "41da536e",
   "metadata": {},
   "source": [
    "# 5. Try to capitalize the whole string"
   ]
  },
  {
   "cell_type": "code",
   "execution_count": 6,
   "id": "9d788e36",
   "metadata": {},
   "outputs": [
    {
     "data": {
      "text/plain": [
       "'This is my first python programming class and i am learning python string and its function'"
      ]
     },
     "execution_count": 6,
     "metadata": {},
     "output_type": "execute_result"
    }
   ],
   "source": [
    "s.capitalize()"
   ]
  },
  {
   "cell_type": "markdown",
   "id": "cabe581a",
   "metadata": {},
   "source": [
    "# 6. Write a diference between isalnum() and isalpha()"
   ]
  },
  {
   "cell_type": "markdown",
   "id": "bec78ef1",
   "metadata": {},
   "source": [
    "The Python isalpha() method returns true if a string only contains letters. Python isalnum() only returns true if a string contains alphanumeric characters, without symbols."
   ]
  },
  {
   "cell_type": "markdown",
   "id": "5176c794",
   "metadata": {},
   "source": [
    "# 7. Try to give an example of expand tab"
   ]
  },
  {
   "cell_type": "code",
   "execution_count": 7,
   "id": "37c96365",
   "metadata": {},
   "outputs": [
    {
     "data": {
      "text/plain": [
       "'Subhash Dixit   NIT     DUrgapur'"
      ]
     },
     "execution_count": 7,
     "metadata": {},
     "output_type": "execute_result"
    }
   ],
   "source": [
    "s=\"Subhash\\tDixit\\tNIT\\tDUrgapur\"\n",
    "s.expandtabs()"
   ]
  },
  {
   "cell_type": "markdown",
   "id": "09aa4258",
   "metadata": {},
   "source": [
    "# 8. Give an example of strip , lstrip and rstrip"
   ]
  },
  {
   "cell_type": "code",
   "execution_count": 12,
   "id": "a7d6b43a",
   "metadata": {},
   "outputs": [
    {
     "data": {
      "text/plain": [
       "'Subhash Dixit'"
      ]
     },
     "execution_count": 12,
     "metadata": {},
     "output_type": "execute_result"
    }
   ],
   "source": [
    "s=\" Subhash Dixit  \"\n",
    "# Remove all the space except the space between the word\n",
    "s.strip()"
   ]
  },
  {
   "cell_type": "code",
   "execution_count": 13,
   "id": "ac7557a8",
   "metadata": {},
   "outputs": [
    {
     "data": {
      "text/plain": [
       "'Subhash Dixit  '"
      ]
     },
     "execution_count": 13,
     "metadata": {},
     "output_type": "execute_result"
    }
   ],
   "source": [
    "# Remove only left side space\n",
    "s.lstrip()"
   ]
  },
  {
   "cell_type": "code",
   "execution_count": 14,
   "id": "43ceca9e",
   "metadata": {},
   "outputs": [
    {
     "data": {
      "text/plain": [
       "' Subhash Dixit'"
      ]
     },
     "execution_count": 14,
     "metadata": {},
     "output_type": "execute_result"
    }
   ],
   "source": [
    "# Remove only right side space\n",
    "s.rstrip()"
   ]
  },
  {
   "cell_type": "markdown",
   "id": "1db40c4c",
   "metadata": {},
   "source": [
    "# 9. Replace a string character by another character by taking your own example \"sudhanshu\""
   ]
  },
  {
   "cell_type": "code",
   "execution_count": 15,
   "id": "f32c90d9",
   "metadata": {},
   "outputs": [
    {
     "data": {
      "text/plain": [
       "'SWbhash Dixit'"
      ]
     },
     "execution_count": 15,
     "metadata": {},
     "output_type": "execute_result"
    }
   ],
   "source": [
    "s=\"Subhash Dixit\"\n",
    "s.replace('u','W')"
   ]
  },
  {
   "cell_type": "markdown",
   "id": "d065389d",
   "metadata": {},
   "source": [
    "# 10. Try to give a definition of string center function with an example"
   ]
  },
  {
   "cell_type": "code",
   "execution_count": 16,
   "id": "021c7b8f",
   "metadata": {},
   "outputs": [
    {
     "data": {
      "text/plain": [
       "'########Subhash Dixit#########'"
      ]
     },
     "execution_count": 16,
     "metadata": {},
     "output_type": "execute_result"
    }
   ],
   "source": [
    "s=\"Subhash Dixit\"\n",
    "# The center() method will center align the string, using a specified character (space is default) as the fill character.\n",
    "s.center(30,'#')"
   ]
  },
  {
   "cell_type": "markdown",
   "id": "41e84ff5",
   "metadata": {},
   "source": [
    "# 11. Write your own definition of compiler and interpretor without copy paste form internet in your own language"
   ]
  },
  {
   "cell_type": "markdown",
   "id": "ca5a3eb1",
   "metadata": {},
   "source": [
    "Compiler:\n",
    "    \n",
    "    1. It scans the entire programs first and translates it into machine code.\n",
    "    2. It shows all errors and warnings at same time.\n",
    "    3. It takes more execution time.\n",
    "    \n",
    "Interpreter:\n",
    "    \n",
    "    1. It scans the program line by line and translate it into machine code.\n",
    "    2. It shows one error at a time.\n",
    "    3. It takes less execution time."
   ]
  },
  {
   "cell_type": "markdown",
   "id": "3b9a6a5d",
   "metadata": {},
   "source": [
    "# 12. Python is a interpreted or compiled language give a clear ans with your understanding"
   ]
  },
  {
   "cell_type": "markdown",
   "id": "28e26a84",
   "metadata": {},
   "source": [
    "Python is a combination of interpreted and compile language. At first compiler convert the python code into byte code and then interpreter convert it into machine language.\n"
   ]
  },
  {
   "cell_type": "markdown",
   "id": "d8e800d5",
   "metadata": {},
   "source": [
    "# 13. Try to write a usecase of python with your understanding"
   ]
  },
  {
   "cell_type": "markdown",
   "id": "e863475c",
   "metadata": {},
   "source": [
    "Usecases of Python:\n",
    "    \n",
    "    1. In frontend and backend development\n",
    "    2. In Data Science (ML,Deep Learning,Computer Vision,NLP etc)\n",
    "    3. Web Scraping using scrapy\n",
    "    4. Competitive coding"
   ]
  }
 ],
 "metadata": {
  "kernelspec": {
   "display_name": "Python 3 (ipykernel)",
   "language": "python",
   "name": "python3"
  },
  "language_info": {
   "codemirror_mode": {
    "name": "ipython",
    "version": 3
   },
   "file_extension": ".py",
   "mimetype": "text/x-python",
   "name": "python",
   "nbconvert_exporter": "python",
   "pygments_lexer": "ipython3",
   "version": "3.9.7"
  }
 },
 "nbformat": 4,
 "nbformat_minor": 5
}

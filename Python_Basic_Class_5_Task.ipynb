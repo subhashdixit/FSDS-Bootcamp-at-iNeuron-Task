{
 "cells": [
  {
   "cell_type": "markdown",
   "id": "a54e5694",
   "metadata": {},
   "source": [
    "# 1. Pattern printing\n",
    "\n",
    "#    ineuron\n",
    "    \n",
    "#    ineuron ineuron\n",
    "    \n",
    "#    ineuron ineuron ineuron\n",
    "    \n",
    "#    ineuron ineuron ineuron ineuron"
   ]
  },
  {
   "cell_type": "code",
   "execution_count": 1,
   "id": "c4609389",
   "metadata": {},
   "outputs": [
    {
     "name": "stdout",
     "output_type": "stream",
     "text": [
      "ineuron \n",
      "\n",
      "ineuron ineuron \n",
      "\n",
      "ineuron ineuron ineuron \n",
      "\n",
      "ineuron ineuron ineuron ineuron \n",
      "\n"
     ]
    }
   ],
   "source": [
    "n=4\n",
    "for i in range(n):\n",
    "    for j in range(0,i+1):\n",
    "        print(\"ineuron\",end=\" \")\n",
    "    print(\"\\n\")"
   ]
  },
  {
   "cell_type": "code",
   "execution_count": 2,
   "id": "7cb8fa62",
   "metadata": {},
   "outputs": [],
   "source": [
    "# 2. Pattern printing\n",
    "\n",
    "#        ineuron\n",
    "\n",
    "#    ineuron      ineuron\n",
    "\n",
    "# ineuron ineuron  ineuron\n",
    "\n",
    "#    ineuron      ineuron\n",
    "\n",
    " #       ineuron"
   ]
  },
  {
   "cell_type": "code",
   "execution_count": 3,
   "id": "c8cb39f4",
   "metadata": {},
   "outputs": [
    {
     "name": "stdout",
     "output_type": "stream",
     "text": [
      "        ineuron         \n",
      "\n",
      "   ineuron     ineuron    \n",
      "\n",
      "ineuron   ineuron   ineuron \n",
      "\n",
      "   ineuron     ineuron    \n",
      "\n",
      "        ineuron         \n",
      "\n"
     ]
    }
   ],
   "source": [
    "k=0\n",
    "for i in range(1,6):\n",
    "    if i<=3:\n",
    "            k=k+1\n",
    "    else:\n",
    "            k=k-1\n",
    "    for j in range(1,6):\n",
    "        if i>1 and i<5:\n",
    "            if i%2==0:\n",
    "                if j>=4-k and j<=k+2:\n",
    "                    if j%2==0:\n",
    "                        print(\"ineuron\",end=\" \")\n",
    "                    else:\n",
    "                        print(end=\"    \")\n",
    "                else:\n",
    "                    print(end=\"   \")\n",
    "            else:\n",
    "                if j>=4-k and j<=k+2:\n",
    "                    if j%2!=0:\n",
    "                        print(\"ineuron\",end=\" \")\n",
    "                    else:\n",
    "                        print(end=\"  \")\n",
    "                else:\n",
    "                    print(end=\"   \")\n",
    "        if i==1 or i==5:    \n",
    "            if j>=4-k and j<=k+2:\n",
    "                    print(\"ineuron\",end=\" \")\n",
    "            else:\n",
    "                print(end=\"    \")\n",
    "    print(\"\\n\")"
   ]
  },
  {
   "cell_type": "markdown",
   "id": "748e9d00",
   "metadata": {},
   "source": [
    "# l=[[1,2,3,4],(2,3,4,5,6),(3,4,5,6,7),set([23,4,5,45,4,4,5,45,45,4,5]),{'k1':\"sudh\",\"k2\":\"ineuron\",\"k3\":\"kumar\",3:6,7:8},[\"ineuron\",\"data science\"]]"
   ]
  },
  {
   "cell_type": "code",
   "execution_count": 4,
   "id": "a02a48d4",
   "metadata": {},
   "outputs": [
    {
     "data": {
      "text/plain": [
       "[[1, 2, 3, 4],\n",
       " (2, 3, 4, 5, 6),\n",
       " (3, 4, 5, 6, 7),\n",
       " {4, 5, 23, 45},\n",
       " {'k1': 'sudh', 'k2': 'ineuron', 'k3': 'kumar', 3: 6, 7: 8},\n",
       " ['ineuron', 'data science']]"
      ]
     },
     "execution_count": 4,
     "metadata": {},
     "output_type": "execute_result"
    }
   ],
   "source": [
    "l=[[1,2,3,4],(2,3,4,5,6),(3,4,5,6,7),set([23,4,5,45,4,4,5,45,45,4,5]),{'k1':\"sudh\",\"k2\":\"ineuron\",\"k3\":\"kumar\",3:6,7:8},\n",
    "   [\"ineuron\",\"data science\"]]\n",
    "l"
   ]
  },
  {
   "cell_type": "markdown",
   "id": "53cf8448",
   "metadata": {},
   "source": [
    "# 3. Try to extract all the list entity"
   ]
  },
  {
   "cell_type": "code",
   "execution_count": 5,
   "id": "4ad18a4a",
   "metadata": {},
   "outputs": [
    {
     "name": "stdout",
     "output_type": "stream",
     "text": [
      "[1, 2, 3, 4]\n",
      "['ineuron', 'data science']\n"
     ]
    }
   ],
   "source": [
    "for i in l:\n",
    "    if type(i)==list:\n",
    "        print(i)"
   ]
  },
  {
   "cell_type": "markdown",
   "id": "f0210245",
   "metadata": {},
   "source": [
    "# 4. Try to extract all the dict entities"
   ]
  },
  {
   "cell_type": "code",
   "execution_count": 6,
   "id": "5dec9f49",
   "metadata": {},
   "outputs": [
    {
     "name": "stdout",
     "output_type": "stream",
     "text": [
      "{'k1': 'sudh', 'k2': 'ineuron', 'k3': 'kumar', 3: 6, 7: 8}\n"
     ]
    }
   ],
   "source": [
    "for i in l:\n",
    "    if type(i)==dict:\n",
    "        print(i)"
   ]
  },
  {
   "cell_type": "markdown",
   "id": "84571e6e",
   "metadata": {},
   "source": [
    "# 5. Try to extract all the tuples entities"
   ]
  },
  {
   "cell_type": "code",
   "execution_count": 7,
   "id": "aaa3295b",
   "metadata": {},
   "outputs": [
    {
     "name": "stdout",
     "output_type": "stream",
     "text": [
      "(2, 3, 4, 5, 6)\n",
      "(3, 4, 5, 6, 7)\n"
     ]
    }
   ],
   "source": [
    "for i in l:\n",
    "    if type(i)==tuple:\n",
    "        print(i)"
   ]
  },
  {
   "cell_type": "markdown",
   "id": "f9f3229f",
   "metadata": {},
   "source": [
    "# 6. Try to extract all the numerical data it may be a part of dict key and values"
   ]
  },
  {
   "cell_type": "code",
   "execution_count": 8,
   "id": "05bbf354",
   "metadata": {},
   "outputs": [
    {
     "name": "stdout",
     "output_type": "stream",
     "text": [
      "1\n",
      "2\n",
      "3\n",
      "4\n",
      "2\n",
      "3\n",
      "4\n",
      "5\n",
      "6\n",
      "3\n",
      "4\n",
      "5\n",
      "6\n",
      "7\n",
      "45\n",
      "4\n",
      "5\n",
      "23\n",
      "3 6\n",
      "7 8\n"
     ]
    }
   ],
   "source": [
    "for i in l:\n",
    "    if type(i)==tuple or type(i)==list or type(i)==set:\n",
    "        for j in i:\n",
    "            if type(j)==int:\n",
    "                print(j)\n",
    "    if type(i)==dict:\n",
    "        for k,v in i.items():\n",
    "            if type(k)==int or type(v)==int:\n",
    "                print(k,v)"
   ]
  },
  {
   "cell_type": "markdown",
   "id": "bc23dc83",
   "metadata": {},
   "source": [
    "# 7. Try to give summation of all the numeric data"
   ]
  },
  {
   "cell_type": "code",
   "execution_count": 9,
   "id": "25e4d58e",
   "metadata": {},
   "outputs": [
    {
     "name": "stdout",
     "output_type": "stream",
     "text": [
      "Summation of all the numeric data : 156\n"
     ]
    }
   ],
   "source": [
    "sum_num=0\n",
    "for i in l:\n",
    "    if type(i)==tuple or type(i)==list or type(i)==set:\n",
    "        for j in i:\n",
    "            if type(j)==int:\n",
    "                sum_num=sum_num+j\n",
    "    if type(i)==dict:\n",
    "        for k,v in i.items():\n",
    "            if type(k)==int or type(v)==int:\n",
    "                sum_num=sum_num+k+v\n",
    "print(\"Summation of all the numeric data :\",sum_num)"
   ]
  },
  {
   "cell_type": "markdown",
   "id": "48098697",
   "metadata": {},
   "source": [
    "# 8. Try to filter out all the odd values out all numeric data which is a part of a list"
   ]
  },
  {
   "cell_type": "code",
   "execution_count": 10,
   "id": "0ef01bca",
   "metadata": {},
   "outputs": [
    {
     "name": "stdout",
     "output_type": "stream",
     "text": [
      "Odd numbers presenet in the list are  [1, 3]\n"
     ]
    }
   ],
   "source": [
    "odd_number_list=[]\n",
    "for i in l:\n",
    "    if type(i)==list:\n",
    "        for j in i:\n",
    "            if type(j)==int:\n",
    "                if j%2 != 0 :\n",
    "                    odd_number_list.append(j)\n",
    "print(\"Odd numbers presenet in the list are \",odd_number_list)"
   ]
  },
  {
   "cell_type": "markdown",
   "id": "dd941b9b",
   "metadata": {},
   "source": [
    "# 9. Try to extract \"ineuron\" out of this data"
   ]
  },
  {
   "cell_type": "code",
   "execution_count": 11,
   "id": "e58c035e",
   "metadata": {},
   "outputs": [
    {
     "name": "stdout",
     "output_type": "stream",
     "text": [
      "['ineuron', 'ineuron']\n"
     ]
    }
   ],
   "source": [
    "text_list=[]\n",
    "for i in l:\n",
    "    if type(i)==list or type(i)==tuple or type(i)==set:\n",
    "        for j in i:\n",
    "            if j==\"ineuron\":\n",
    "                text_list.append(j)\n",
    "    if type(i)==dict:\n",
    "        for k,v in i.items():\n",
    "            if k==\"ineuron\":\n",
    "                text_list.append(k)\n",
    "            if v==\"ineuron\":\n",
    "                text_list.append(v)\n",
    "                \n",
    "print(text_list)"
   ]
  },
  {
   "cell_type": "markdown",
   "id": "6e874708",
   "metadata": {},
   "source": [
    "# 10. Try to find out a number of occurances of all the data"
   ]
  },
  {
   "cell_type": "code",
   "execution_count": 12,
   "id": "29b0dbfd",
   "metadata": {},
   "outputs": [
    {
     "name": "stdout",
     "output_type": "stream",
     "text": [
      "1  :  1\n",
      "2  :  2\n",
      "3  :  4\n",
      "4  :  4\n",
      "2  :  2\n",
      "3  :  4\n",
      "4  :  4\n",
      "5  :  3\n",
      "6  :  3\n",
      "3  :  4\n",
      "4  :  4\n",
      "5  :  3\n",
      "6  :  3\n",
      "7  :  2\n",
      "45  :  1\n",
      "4  :  4\n",
      "5  :  3\n",
      "23  :  1\n",
      "k1  :  1\n",
      "sudh  :  1\n",
      "k2  :  1\n",
      "ineuron  :  2\n",
      "k3  :  1\n",
      "kumar  :  1\n",
      "3  :  4\n",
      "6  :  3\n",
      "7  :  2\n",
      "8  :  1\n",
      "ineuron  :  2\n",
      "data science  :  1\n"
     ]
    }
   ],
   "source": [
    "occur=[]\n",
    "for i in l:\n",
    "    if type(i)==list or type(i)==tuple or type(i)==set:\n",
    "        for j in i:\n",
    "                occur.append(j)\n",
    "    if type(i)==dict:\n",
    "        for k,v in i.items():\n",
    "            occur.append(k)\n",
    "            occur.append(v)\n",
    "for m in occur:\n",
    "    print(m,\" : \",occur.count(m))\n",
    "    "
   ]
  },
  {
   "cell_type": "markdown",
   "id": "f245bdf8",
   "metadata": {},
   "source": [
    "# 11. Try to find out number of keys in dict element"
   ]
  },
  {
   "cell_type": "code",
   "execution_count": 13,
   "id": "528d50a4",
   "metadata": {},
   "outputs": [
    {
     "name": "stdout",
     "output_type": "stream",
     "text": [
      "5\n"
     ]
    }
   ],
   "source": [
    "count_key=0\n",
    "for i in l:\n",
    "    if type(i)==dict:\n",
    "        for k in i.keys():\n",
    "            count_key=count_key+1 \n",
    "print(count_key)"
   ]
  },
  {
   "cell_type": "markdown",
   "id": "71ae3f02",
   "metadata": {},
   "source": [
    "# 12. Try to filter out all the string data"
   ]
  },
  {
   "cell_type": "code",
   "execution_count": 14,
   "id": "6a5604ba",
   "metadata": {},
   "outputs": [
    {
     "name": "stdout",
     "output_type": "stream",
     "text": [
      "['k1', 'sudh', 'k2', 'ineuron', 'k3', 'kumar', 'ineuron', 'data science']\n"
     ]
    }
   ],
   "source": [
    "str_list=[]\n",
    "for i in l:\n",
    "    if type(i)==list or type(i)==tuple or type(i)==set:\n",
    "        for j in i:\n",
    "            if type(j)==str:\n",
    "                str_list.append(j)\n",
    "    if type(i)==dict:\n",
    "        for k,v in i.items():\n",
    "            if type(k)==str:\n",
    "                str_list.append(k)\n",
    "            if type(v)==str:\n",
    "                str_list.append(v)\n",
    "print(str_list)"
   ]
  },
  {
   "cell_type": "markdown",
   "id": "ace075a7",
   "metadata": {},
   "source": [
    "# 13. Try to find out all the alphanum in date"
   ]
  },
  {
   "cell_type": "code",
   "execution_count": 15,
   "id": "e3f5d94e",
   "metadata": {},
   "outputs": [
    {
     "name": "stdout",
     "output_type": "stream",
     "text": [
      "['k1', 'sudh', 'k2', 'ineuron', 'k3', 'kumar', 'ineuron']\n"
     ]
    }
   ],
   "source": [
    "alphanum_list=[]\n",
    "for i in l:\n",
    "    if type(i)==list or type(i)==tuple or type(i)==set:\n",
    "        for j in i:\n",
    "            if type(j)==str:\n",
    "                if j.isalnum()==True:\n",
    "                    alphanum_list.append(j)\n",
    "    if type(i)==dict:\n",
    "        for k,v in i.items():\n",
    "            if type(k)==str:\n",
    "                if k.isalnum()==True:\n",
    "                    alphanum_list.append(k)\n",
    "            if type(v)==str:\n",
    "                if v.isalnum()==True:\n",
    "                    alphanum_list.append(v)\n",
    "print(alphanum_list)"
   ]
  },
  {
   "cell_type": "markdown",
   "id": "7117aaaf",
   "metadata": {},
   "source": [
    "# 14. Try to find out multiplication of all numeric value in the individual collection inside dataset"
   ]
  },
  {
   "cell_type": "code",
   "execution_count": 16,
   "id": "64e9676d",
   "metadata": {},
   "outputs": [
    {
     "name": "stdout",
     "output_type": "stream",
     "text": [
      "Multiplication of all the numeric data inside the tuple:  1814400\n",
      "Multiplication of all the numeric data inside the list:  1\n",
      "Multiplication of all the numeric data inside the set:  1\n",
      "Multiplication of all the numeric data inside the dict:  1008\n"
     ]
    }
   ],
   "source": [
    "mul_num_tuple=1\n",
    "mul_num_set=1\n",
    "mul_num_list=1\n",
    "mul_num_dict=1\n",
    "for i in l:\n",
    "    if type(i)==tuple:\n",
    "        for j in i:\n",
    "            if type(j)==int:\n",
    "                mul_num_tuple=mul_num_tuple*j\n",
    "    if type(j)==list:\n",
    "        for j in i:\n",
    "            if type(j)==int:\n",
    "                mul_num_list=mul_num_list*j\n",
    "    if type(j)==set:\n",
    "        for j in i:\n",
    "            if type(j)==int:\n",
    "                mul_num_set=mul_num_set*j\n",
    "    if type(i)==dict:\n",
    "        for k,v in i.items():\n",
    "            if type(k)==int or type(v)==int:\n",
    "                mul_num_dict=mul_num_dict*k*v\n",
    "                \n",
    "print(\"Multiplication of all the numeric data inside the tuple: \",mul_num_tuple)\n",
    "print(\"Multiplication of all the numeric data inside the list: \",mul_num_list)\n",
    "print(\"Multiplication of all the numeric data inside the set: \",mul_num_set)\n",
    "print(\"Multiplication of all the numeric data inside the dict: \",mul_num_dict)"
   ]
  },
  {
   "cell_type": "markdown",
   "id": "7ea30ac6",
   "metadata": {},
   "source": [
    "# 15. Try to unwrape all the collections inside collection and create a flat list"
   ]
  },
  {
   "cell_type": "code",
   "execution_count": 17,
   "id": "42ae2eca",
   "metadata": {},
   "outputs": [
    {
     "name": "stdout",
     "output_type": "stream",
     "text": [
      "Unwrape elements:  [1, 2, 3, 4, 2, 3, 4, 5, 6, 3, 4, 5, 6, 7, 45, 4, 5, 23, 'k1', 'sudh', 'k2', 'ineuron', 'k3', 'kumar', 3, 6, 7, 8, 'ineuron', 'data science']\n"
     ]
    }
   ],
   "source": [
    "flat_list=[]\n",
    "for i in l:\n",
    "    if type(i)==tuple or type(i)==list or type(i)==set:\n",
    "        for j in i:\n",
    "            flat_list.append(j)\n",
    "  \n",
    "    if type(i)==dict:\n",
    "        for k,v in i.items():\n",
    "            flat_list.append(k)\n",
    "            flat_list.append(v)\n",
    "\n",
    "print(\"Unwrape elements: \",flat_list)"
   ]
  }
 ],
 "metadata": {
  "kernelspec": {
   "display_name": "Python 3 (ipykernel)",
   "language": "python",
   "name": "python3"
  },
  "language_info": {
   "codemirror_mode": {
    "name": "ipython",
    "version": 3
   },
   "file_extension": ".py",
   "mimetype": "text/x-python",
   "name": "python",
   "nbconvert_exporter": "python",
   "pygments_lexer": "ipython3",
   "version": "3.9.7"
  }
 },
 "nbformat": 4,
 "nbformat_minor": 5
}

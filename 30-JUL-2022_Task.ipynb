{
  "nbformat": 4,
  "nbformat_minor": 0,
  "metadata": {
    "colab": {
      "name": "30-JUL-2022 Task.ipynb",
      "provenance": [],
      "collapsed_sections": []
    },
    "kernelspec": {
      "name": "python3",
      "display_name": "Python 3"
    },
    "language_info": {
      "name": "python"
    }
  },
  "cells": [
    {
      "cell_type": "code",
      "execution_count": 1,
      "metadata": {
        "id": "T3kJqp-Iz-2O"
      },
      "outputs": [],
      "source": [
        "import pandas as pd"
      ]
    },
    {
      "cell_type": "code",
      "source": [
        "df_agent_performance = pd.read_excel(\"/content/AgentPerformance.xlsx\",header=1)\n"
      ],
      "metadata": {
        "id": "PCXmi1i90UH-"
      },
      "execution_count": 2,
      "outputs": []
    },
    {
      "cell_type": "code",
      "source": [
        "df_agent_login = pd.read_excel(\"/content/Agent_Login_Report.xlsx\",header=1)"
      ],
      "metadata": {
        "id": "LWMH7cF-5063"
      },
      "execution_count": 3,
      "outputs": []
    },
    {
      "cell_type": "code",
      "source": [
        "df_agent_performance.head()"
      ],
      "metadata": {
        "colab": {
          "base_uri": "https://localhost:8080/",
          "height": 206
        },
        "id": "9XQlM29t0kT8",
        "outputId": "087cdb85-9bd1-478f-9bdd-439d50ad453f"
      },
      "execution_count": 4,
      "outputs": [
        {
          "output_type": "execute_result",
          "data": {
            "text/plain": [
              "   SL No        Date     Agent Name  Total Chats Average Response Time  \\\n",
              "0      1  2022-07-30   Prerna Singh           11              00:00:38   \n",
              "1      2  2022-07-30  Nandani Gupta           11              00:01:15   \n",
              "2      3  2022-07-30     Ameya Jain           14              00:00:30   \n",
              "3      4  2022-07-30  Mahesh Sarade           14              00:01:04   \n",
              "4      5  2022-07-30         Swati            14              00:01:11   \n",
              "\n",
              "  Average Resolution Time  Average Rating  Total Feedback  \n",
              "0                00:04:20            4.11               9  \n",
              "1                00:28:25            3.14               7  \n",
              "2                00:11:36            4.55              11  \n",
              "3                00:15:46            4.71               7  \n",
              "4                00:16:33            3.67               6  "
            ],
            "text/html": [
              "\n",
              "  <div id=\"df-a729fb5f-87e2-48a0-b734-21bb2ac5486c\">\n",
              "    <div class=\"colab-df-container\">\n",
              "      <div>\n",
              "<style scoped>\n",
              "    .dataframe tbody tr th:only-of-type {\n",
              "        vertical-align: middle;\n",
              "    }\n",
              "\n",
              "    .dataframe tbody tr th {\n",
              "        vertical-align: top;\n",
              "    }\n",
              "\n",
              "    .dataframe thead th {\n",
              "        text-align: right;\n",
              "    }\n",
              "</style>\n",
              "<table border=\"1\" class=\"dataframe\">\n",
              "  <thead>\n",
              "    <tr style=\"text-align: right;\">\n",
              "      <th></th>\n",
              "      <th>SL No</th>\n",
              "      <th>Date</th>\n",
              "      <th>Agent Name</th>\n",
              "      <th>Total Chats</th>\n",
              "      <th>Average Response Time</th>\n",
              "      <th>Average Resolution Time</th>\n",
              "      <th>Average Rating</th>\n",
              "      <th>Total Feedback</th>\n",
              "    </tr>\n",
              "  </thead>\n",
              "  <tbody>\n",
              "    <tr>\n",
              "      <th>0</th>\n",
              "      <td>1</td>\n",
              "      <td>2022-07-30</td>\n",
              "      <td>Prerna Singh</td>\n",
              "      <td>11</td>\n",
              "      <td>00:00:38</td>\n",
              "      <td>00:04:20</td>\n",
              "      <td>4.11</td>\n",
              "      <td>9</td>\n",
              "    </tr>\n",
              "    <tr>\n",
              "      <th>1</th>\n",
              "      <td>2</td>\n",
              "      <td>2022-07-30</td>\n",
              "      <td>Nandani Gupta</td>\n",
              "      <td>11</td>\n",
              "      <td>00:01:15</td>\n",
              "      <td>00:28:25</td>\n",
              "      <td>3.14</td>\n",
              "      <td>7</td>\n",
              "    </tr>\n",
              "    <tr>\n",
              "      <th>2</th>\n",
              "      <td>3</td>\n",
              "      <td>2022-07-30</td>\n",
              "      <td>Ameya Jain</td>\n",
              "      <td>14</td>\n",
              "      <td>00:00:30</td>\n",
              "      <td>00:11:36</td>\n",
              "      <td>4.55</td>\n",
              "      <td>11</td>\n",
              "    </tr>\n",
              "    <tr>\n",
              "      <th>3</th>\n",
              "      <td>4</td>\n",
              "      <td>2022-07-30</td>\n",
              "      <td>Mahesh Sarade</td>\n",
              "      <td>14</td>\n",
              "      <td>00:01:04</td>\n",
              "      <td>00:15:46</td>\n",
              "      <td>4.71</td>\n",
              "      <td>7</td>\n",
              "    </tr>\n",
              "    <tr>\n",
              "      <th>4</th>\n",
              "      <td>5</td>\n",
              "      <td>2022-07-30</td>\n",
              "      <td>Swati</td>\n",
              "      <td>14</td>\n",
              "      <td>00:01:11</td>\n",
              "      <td>00:16:33</td>\n",
              "      <td>3.67</td>\n",
              "      <td>6</td>\n",
              "    </tr>\n",
              "  </tbody>\n",
              "</table>\n",
              "</div>\n",
              "      <button class=\"colab-df-convert\" onclick=\"convertToInteractive('df-a729fb5f-87e2-48a0-b734-21bb2ac5486c')\"\n",
              "              title=\"Convert this dataframe to an interactive table.\"\n",
              "              style=\"display:none;\">\n",
              "        \n",
              "  <svg xmlns=\"http://www.w3.org/2000/svg\" height=\"24px\"viewBox=\"0 0 24 24\"\n",
              "       width=\"24px\">\n",
              "    <path d=\"M0 0h24v24H0V0z\" fill=\"none\"/>\n",
              "    <path d=\"M18.56 5.44l.94 2.06.94-2.06 2.06-.94-2.06-.94-.94-2.06-.94 2.06-2.06.94zm-11 1L8.5 8.5l.94-2.06 2.06-.94-2.06-.94L8.5 2.5l-.94 2.06-2.06.94zm10 10l.94 2.06.94-2.06 2.06-.94-2.06-.94-.94-2.06-.94 2.06-2.06.94z\"/><path d=\"M17.41 7.96l-1.37-1.37c-.4-.4-.92-.59-1.43-.59-.52 0-1.04.2-1.43.59L10.3 9.45l-7.72 7.72c-.78.78-.78 2.05 0 2.83L4 21.41c.39.39.9.59 1.41.59.51 0 1.02-.2 1.41-.59l7.78-7.78 2.81-2.81c.8-.78.8-2.07 0-2.86zM5.41 20L4 18.59l7.72-7.72 1.47 1.35L5.41 20z\"/>\n",
              "  </svg>\n",
              "      </button>\n",
              "      \n",
              "  <style>\n",
              "    .colab-df-container {\n",
              "      display:flex;\n",
              "      flex-wrap:wrap;\n",
              "      gap: 12px;\n",
              "    }\n",
              "\n",
              "    .colab-df-convert {\n",
              "      background-color: #E8F0FE;\n",
              "      border: none;\n",
              "      border-radius: 50%;\n",
              "      cursor: pointer;\n",
              "      display: none;\n",
              "      fill: #1967D2;\n",
              "      height: 32px;\n",
              "      padding: 0 0 0 0;\n",
              "      width: 32px;\n",
              "    }\n",
              "\n",
              "    .colab-df-convert:hover {\n",
              "      background-color: #E2EBFA;\n",
              "      box-shadow: 0px 1px 2px rgba(60, 64, 67, 0.3), 0px 1px 3px 1px rgba(60, 64, 67, 0.15);\n",
              "      fill: #174EA6;\n",
              "    }\n",
              "\n",
              "    [theme=dark] .colab-df-convert {\n",
              "      background-color: #3B4455;\n",
              "      fill: #D2E3FC;\n",
              "    }\n",
              "\n",
              "    [theme=dark] .colab-df-convert:hover {\n",
              "      background-color: #434B5C;\n",
              "      box-shadow: 0px 1px 3px 1px rgba(0, 0, 0, 0.15);\n",
              "      filter: drop-shadow(0px 1px 2px rgba(0, 0, 0, 0.3));\n",
              "      fill: #FFFFFF;\n",
              "    }\n",
              "  </style>\n",
              "\n",
              "      <script>\n",
              "        const buttonEl =\n",
              "          document.querySelector('#df-a729fb5f-87e2-48a0-b734-21bb2ac5486c button.colab-df-convert');\n",
              "        buttonEl.style.display =\n",
              "          google.colab.kernel.accessAllowed ? 'block' : 'none';\n",
              "\n",
              "        async function convertToInteractive(key) {\n",
              "          const element = document.querySelector('#df-a729fb5f-87e2-48a0-b734-21bb2ac5486c');\n",
              "          const dataTable =\n",
              "            await google.colab.kernel.invokeFunction('convertToInteractive',\n",
              "                                                     [key], {});\n",
              "          if (!dataTable) return;\n",
              "\n",
              "          const docLinkHtml = 'Like what you see? Visit the ' +\n",
              "            '<a target=\"_blank\" href=https://colab.research.google.com/notebooks/data_table.ipynb>data table notebook</a>'\n",
              "            + ' to learn more about interactive tables.';\n",
              "          element.innerHTML = '';\n",
              "          dataTable['output_type'] = 'display_data';\n",
              "          await google.colab.output.renderOutput(dataTable, element);\n",
              "          const docLink = document.createElement('div');\n",
              "          docLink.innerHTML = docLinkHtml;\n",
              "          element.appendChild(docLink);\n",
              "        }\n",
              "      </script>\n",
              "    </div>\n",
              "  </div>\n",
              "  "
            ]
          },
          "metadata": {},
          "execution_count": 4
        }
      ]
    },
    {
      "cell_type": "code",
      "source": [
        "df_agent_login.head()\n"
      ],
      "metadata": {
        "colab": {
          "base_uri": "https://localhost:8080/",
          "height": 206
        },
        "id": "GmBP3DvQ1HzV",
        "outputId": "7219caa4-5dfe-4ece-a6be-e4394a40a0fc"
      },
      "execution_count": 5,
      "outputs": [
        {
          "output_type": "execute_result",
          "data": {
            "text/plain": [
              "   SL No               Agent       Date   Login Time  Logout Time  Duration\n",
              "0      1  Shivananda Sonwane  30-Jul-22  03:35:29 PM  05:39:39 PM  02:04:10\n",
              "1      2      Khushboo Priya  30-Jul-22  03:06:59 PM  03:07:16 PM  00:00:17\n",
              "2      3       Nandani Gupta  30-Jul-22  03:04:24 PM  05:31:07 PM  02:26:42\n",
              "3      4     Hrisikesh Neogi  30-Jul-22  02:34:29 PM  03:19:35 PM  00:45:06\n",
              "4      5             Mukesh   30-Jul-22  02:03:15 PM  03:11:52 PM  01:08:36"
            ],
            "text/html": [
              "\n",
              "  <div id=\"df-0ba9d3c7-1360-4927-ab33-2c51bdd05020\">\n",
              "    <div class=\"colab-df-container\">\n",
              "      <div>\n",
              "<style scoped>\n",
              "    .dataframe tbody tr th:only-of-type {\n",
              "        vertical-align: middle;\n",
              "    }\n",
              "\n",
              "    .dataframe tbody tr th {\n",
              "        vertical-align: top;\n",
              "    }\n",
              "\n",
              "    .dataframe thead th {\n",
              "        text-align: right;\n",
              "    }\n",
              "</style>\n",
              "<table border=\"1\" class=\"dataframe\">\n",
              "  <thead>\n",
              "    <tr style=\"text-align: right;\">\n",
              "      <th></th>\n",
              "      <th>SL No</th>\n",
              "      <th>Agent</th>\n",
              "      <th>Date</th>\n",
              "      <th>Login Time</th>\n",
              "      <th>Logout Time</th>\n",
              "      <th>Duration</th>\n",
              "    </tr>\n",
              "  </thead>\n",
              "  <tbody>\n",
              "    <tr>\n",
              "      <th>0</th>\n",
              "      <td>1</td>\n",
              "      <td>Shivananda Sonwane</td>\n",
              "      <td>30-Jul-22</td>\n",
              "      <td>03:35:29 PM</td>\n",
              "      <td>05:39:39 PM</td>\n",
              "      <td>02:04:10</td>\n",
              "    </tr>\n",
              "    <tr>\n",
              "      <th>1</th>\n",
              "      <td>2</td>\n",
              "      <td>Khushboo Priya</td>\n",
              "      <td>30-Jul-22</td>\n",
              "      <td>03:06:59 PM</td>\n",
              "      <td>03:07:16 PM</td>\n",
              "      <td>00:00:17</td>\n",
              "    </tr>\n",
              "    <tr>\n",
              "      <th>2</th>\n",
              "      <td>3</td>\n",
              "      <td>Nandani Gupta</td>\n",
              "      <td>30-Jul-22</td>\n",
              "      <td>03:04:24 PM</td>\n",
              "      <td>05:31:07 PM</td>\n",
              "      <td>02:26:42</td>\n",
              "    </tr>\n",
              "    <tr>\n",
              "      <th>3</th>\n",
              "      <td>4</td>\n",
              "      <td>Hrisikesh Neogi</td>\n",
              "      <td>30-Jul-22</td>\n",
              "      <td>02:34:29 PM</td>\n",
              "      <td>03:19:35 PM</td>\n",
              "      <td>00:45:06</td>\n",
              "    </tr>\n",
              "    <tr>\n",
              "      <th>4</th>\n",
              "      <td>5</td>\n",
              "      <td>Mukesh</td>\n",
              "      <td>30-Jul-22</td>\n",
              "      <td>02:03:15 PM</td>\n",
              "      <td>03:11:52 PM</td>\n",
              "      <td>01:08:36</td>\n",
              "    </tr>\n",
              "  </tbody>\n",
              "</table>\n",
              "</div>\n",
              "      <button class=\"colab-df-convert\" onclick=\"convertToInteractive('df-0ba9d3c7-1360-4927-ab33-2c51bdd05020')\"\n",
              "              title=\"Convert this dataframe to an interactive table.\"\n",
              "              style=\"display:none;\">\n",
              "        \n",
              "  <svg xmlns=\"http://www.w3.org/2000/svg\" height=\"24px\"viewBox=\"0 0 24 24\"\n",
              "       width=\"24px\">\n",
              "    <path d=\"M0 0h24v24H0V0z\" fill=\"none\"/>\n",
              "    <path d=\"M18.56 5.44l.94 2.06.94-2.06 2.06-.94-2.06-.94-.94-2.06-.94 2.06-2.06.94zm-11 1L8.5 8.5l.94-2.06 2.06-.94-2.06-.94L8.5 2.5l-.94 2.06-2.06.94zm10 10l.94 2.06.94-2.06 2.06-.94-2.06-.94-.94-2.06-.94 2.06-2.06.94z\"/><path d=\"M17.41 7.96l-1.37-1.37c-.4-.4-.92-.59-1.43-.59-.52 0-1.04.2-1.43.59L10.3 9.45l-7.72 7.72c-.78.78-.78 2.05 0 2.83L4 21.41c.39.39.9.59 1.41.59.51 0 1.02-.2 1.41-.59l7.78-7.78 2.81-2.81c.8-.78.8-2.07 0-2.86zM5.41 20L4 18.59l7.72-7.72 1.47 1.35L5.41 20z\"/>\n",
              "  </svg>\n",
              "      </button>\n",
              "      \n",
              "  <style>\n",
              "    .colab-df-container {\n",
              "      display:flex;\n",
              "      flex-wrap:wrap;\n",
              "      gap: 12px;\n",
              "    }\n",
              "\n",
              "    .colab-df-convert {\n",
              "      background-color: #E8F0FE;\n",
              "      border: none;\n",
              "      border-radius: 50%;\n",
              "      cursor: pointer;\n",
              "      display: none;\n",
              "      fill: #1967D2;\n",
              "      height: 32px;\n",
              "      padding: 0 0 0 0;\n",
              "      width: 32px;\n",
              "    }\n",
              "\n",
              "    .colab-df-convert:hover {\n",
              "      background-color: #E2EBFA;\n",
              "      box-shadow: 0px 1px 2px rgba(60, 64, 67, 0.3), 0px 1px 3px 1px rgba(60, 64, 67, 0.15);\n",
              "      fill: #174EA6;\n",
              "    }\n",
              "\n",
              "    [theme=dark] .colab-df-convert {\n",
              "      background-color: #3B4455;\n",
              "      fill: #D2E3FC;\n",
              "    }\n",
              "\n",
              "    [theme=dark] .colab-df-convert:hover {\n",
              "      background-color: #434B5C;\n",
              "      box-shadow: 0px 1px 3px 1px rgba(0, 0, 0, 0.15);\n",
              "      filter: drop-shadow(0px 1px 2px rgba(0, 0, 0, 0.3));\n",
              "      fill: #FFFFFF;\n",
              "    }\n",
              "  </style>\n",
              "\n",
              "      <script>\n",
              "        const buttonEl =\n",
              "          document.querySelector('#df-0ba9d3c7-1360-4927-ab33-2c51bdd05020 button.colab-df-convert');\n",
              "        buttonEl.style.display =\n",
              "          google.colab.kernel.accessAllowed ? 'block' : 'none';\n",
              "\n",
              "        async function convertToInteractive(key) {\n",
              "          const element = document.querySelector('#df-0ba9d3c7-1360-4927-ab33-2c51bdd05020');\n",
              "          const dataTable =\n",
              "            await google.colab.kernel.invokeFunction('convertToInteractive',\n",
              "                                                     [key], {});\n",
              "          if (!dataTable) return;\n",
              "\n",
              "          const docLinkHtml = 'Like what you see? Visit the ' +\n",
              "            '<a target=\"_blank\" href=https://colab.research.google.com/notebooks/data_table.ipynb>data table notebook</a>'\n",
              "            + ' to learn more about interactive tables.';\n",
              "          element.innerHTML = '';\n",
              "          dataTable['output_type'] = 'display_data';\n",
              "          await google.colab.output.renderOutput(dataTable, element);\n",
              "          const docLink = document.createElement('div');\n",
              "          docLink.innerHTML = docLinkHtml;\n",
              "          element.appendChild(docLink);\n",
              "        }\n",
              "      </script>\n",
              "    </div>\n",
              "  </div>\n",
              "  "
            ]
          },
          "metadata": {},
          "execution_count": 5
        }
      ]
    },
    {
      "cell_type": "markdown",
      "source": [
        "# **1. Find out there avarage rating on weekly basis keep this in a mind that they take two days of leave**"
      ],
      "metadata": {
        "id": "Oadx8xR27ecj"
      }
    },
    {
      "cell_type": "code",
      "source": [
        "df_agent_performance['Date_Week'] = pd.to_datetime(df_agent_performance['Date']).dt.week"
      ],
      "metadata": {
        "colab": {
          "base_uri": "https://localhost:8080/"
        },
        "id": "Xqf9Sfpw7Y6A",
        "outputId": "5078332c-8a0f-44e4-c6cd-94ab31bdddeb"
      },
      "execution_count": 6,
      "outputs": [
        {
          "output_type": "stream",
          "name": "stderr",
          "text": [
            "/usr/local/lib/python3.7/dist-packages/ipykernel_launcher.py:1: FutureWarning: Series.dt.weekofyear and Series.dt.week have been deprecated.  Please use Series.dt.isocalendar().week instead.\n",
            "  \"\"\"Entry point for launching an IPython kernel.\n"
          ]
        }
      ]
    },
    {
      "cell_type": "code",
      "source": [
        "df_agent_performance.head()"
      ],
      "metadata": {
        "colab": {
          "base_uri": "https://localhost:8080/",
          "height": 206
        },
        "id": "pvON0uRO78Wg",
        "outputId": "2d804c00-2fc3-493b-f908-1cace4c3c3fe"
      },
      "execution_count": 7,
      "outputs": [
        {
          "output_type": "execute_result",
          "data": {
            "text/plain": [
              "   SL No        Date     Agent Name  Total Chats Average Response Time  \\\n",
              "0      1  2022-07-30   Prerna Singh           11              00:00:38   \n",
              "1      2  2022-07-30  Nandani Gupta           11              00:01:15   \n",
              "2      3  2022-07-30     Ameya Jain           14              00:00:30   \n",
              "3      4  2022-07-30  Mahesh Sarade           14              00:01:04   \n",
              "4      5  2022-07-30         Swati            14              00:01:11   \n",
              "\n",
              "  Average Resolution Time  Average Rating  Total Feedback  Date_Week  \n",
              "0                00:04:20            4.11               9         30  \n",
              "1                00:28:25            3.14               7         30  \n",
              "2                00:11:36            4.55              11         30  \n",
              "3                00:15:46            4.71               7         30  \n",
              "4                00:16:33            3.67               6         30  "
            ],
            "text/html": [
              "\n",
              "  <div id=\"df-2e6ee32a-811f-4efd-9e9e-bb50f0f2c4a8\">\n",
              "    <div class=\"colab-df-container\">\n",
              "      <div>\n",
              "<style scoped>\n",
              "    .dataframe tbody tr th:only-of-type {\n",
              "        vertical-align: middle;\n",
              "    }\n",
              "\n",
              "    .dataframe tbody tr th {\n",
              "        vertical-align: top;\n",
              "    }\n",
              "\n",
              "    .dataframe thead th {\n",
              "        text-align: right;\n",
              "    }\n",
              "</style>\n",
              "<table border=\"1\" class=\"dataframe\">\n",
              "  <thead>\n",
              "    <tr style=\"text-align: right;\">\n",
              "      <th></th>\n",
              "      <th>SL No</th>\n",
              "      <th>Date</th>\n",
              "      <th>Agent Name</th>\n",
              "      <th>Total Chats</th>\n",
              "      <th>Average Response Time</th>\n",
              "      <th>Average Resolution Time</th>\n",
              "      <th>Average Rating</th>\n",
              "      <th>Total Feedback</th>\n",
              "      <th>Date_Week</th>\n",
              "    </tr>\n",
              "  </thead>\n",
              "  <tbody>\n",
              "    <tr>\n",
              "      <th>0</th>\n",
              "      <td>1</td>\n",
              "      <td>2022-07-30</td>\n",
              "      <td>Prerna Singh</td>\n",
              "      <td>11</td>\n",
              "      <td>00:00:38</td>\n",
              "      <td>00:04:20</td>\n",
              "      <td>4.11</td>\n",
              "      <td>9</td>\n",
              "      <td>30</td>\n",
              "    </tr>\n",
              "    <tr>\n",
              "      <th>1</th>\n",
              "      <td>2</td>\n",
              "      <td>2022-07-30</td>\n",
              "      <td>Nandani Gupta</td>\n",
              "      <td>11</td>\n",
              "      <td>00:01:15</td>\n",
              "      <td>00:28:25</td>\n",
              "      <td>3.14</td>\n",
              "      <td>7</td>\n",
              "      <td>30</td>\n",
              "    </tr>\n",
              "    <tr>\n",
              "      <th>2</th>\n",
              "      <td>3</td>\n",
              "      <td>2022-07-30</td>\n",
              "      <td>Ameya Jain</td>\n",
              "      <td>14</td>\n",
              "      <td>00:00:30</td>\n",
              "      <td>00:11:36</td>\n",
              "      <td>4.55</td>\n",
              "      <td>11</td>\n",
              "      <td>30</td>\n",
              "    </tr>\n",
              "    <tr>\n",
              "      <th>3</th>\n",
              "      <td>4</td>\n",
              "      <td>2022-07-30</td>\n",
              "      <td>Mahesh Sarade</td>\n",
              "      <td>14</td>\n",
              "      <td>00:01:04</td>\n",
              "      <td>00:15:46</td>\n",
              "      <td>4.71</td>\n",
              "      <td>7</td>\n",
              "      <td>30</td>\n",
              "    </tr>\n",
              "    <tr>\n",
              "      <th>4</th>\n",
              "      <td>5</td>\n",
              "      <td>2022-07-30</td>\n",
              "      <td>Swati</td>\n",
              "      <td>14</td>\n",
              "      <td>00:01:11</td>\n",
              "      <td>00:16:33</td>\n",
              "      <td>3.67</td>\n",
              "      <td>6</td>\n",
              "      <td>30</td>\n",
              "    </tr>\n",
              "  </tbody>\n",
              "</table>\n",
              "</div>\n",
              "      <button class=\"colab-df-convert\" onclick=\"convertToInteractive('df-2e6ee32a-811f-4efd-9e9e-bb50f0f2c4a8')\"\n",
              "              title=\"Convert this dataframe to an interactive table.\"\n",
              "              style=\"display:none;\">\n",
              "        \n",
              "  <svg xmlns=\"http://www.w3.org/2000/svg\" height=\"24px\"viewBox=\"0 0 24 24\"\n",
              "       width=\"24px\">\n",
              "    <path d=\"M0 0h24v24H0V0z\" fill=\"none\"/>\n",
              "    <path d=\"M18.56 5.44l.94 2.06.94-2.06 2.06-.94-2.06-.94-.94-2.06-.94 2.06-2.06.94zm-11 1L8.5 8.5l.94-2.06 2.06-.94-2.06-.94L8.5 2.5l-.94 2.06-2.06.94zm10 10l.94 2.06.94-2.06 2.06-.94-2.06-.94-.94-2.06-.94 2.06-2.06.94z\"/><path d=\"M17.41 7.96l-1.37-1.37c-.4-.4-.92-.59-1.43-.59-.52 0-1.04.2-1.43.59L10.3 9.45l-7.72 7.72c-.78.78-.78 2.05 0 2.83L4 21.41c.39.39.9.59 1.41.59.51 0 1.02-.2 1.41-.59l7.78-7.78 2.81-2.81c.8-.78.8-2.07 0-2.86zM5.41 20L4 18.59l7.72-7.72 1.47 1.35L5.41 20z\"/>\n",
              "  </svg>\n",
              "      </button>\n",
              "      \n",
              "  <style>\n",
              "    .colab-df-container {\n",
              "      display:flex;\n",
              "      flex-wrap:wrap;\n",
              "      gap: 12px;\n",
              "    }\n",
              "\n",
              "    .colab-df-convert {\n",
              "      background-color: #E8F0FE;\n",
              "      border: none;\n",
              "      border-radius: 50%;\n",
              "      cursor: pointer;\n",
              "      display: none;\n",
              "      fill: #1967D2;\n",
              "      height: 32px;\n",
              "      padding: 0 0 0 0;\n",
              "      width: 32px;\n",
              "    }\n",
              "\n",
              "    .colab-df-convert:hover {\n",
              "      background-color: #E2EBFA;\n",
              "      box-shadow: 0px 1px 2px rgba(60, 64, 67, 0.3), 0px 1px 3px 1px rgba(60, 64, 67, 0.15);\n",
              "      fill: #174EA6;\n",
              "    }\n",
              "\n",
              "    [theme=dark] .colab-df-convert {\n",
              "      background-color: #3B4455;\n",
              "      fill: #D2E3FC;\n",
              "    }\n",
              "\n",
              "    [theme=dark] .colab-df-convert:hover {\n",
              "      background-color: #434B5C;\n",
              "      box-shadow: 0px 1px 3px 1px rgba(0, 0, 0, 0.15);\n",
              "      filter: drop-shadow(0px 1px 2px rgba(0, 0, 0, 0.3));\n",
              "      fill: #FFFFFF;\n",
              "    }\n",
              "  </style>\n",
              "\n",
              "      <script>\n",
              "        const buttonEl =\n",
              "          document.querySelector('#df-2e6ee32a-811f-4efd-9e9e-bb50f0f2c4a8 button.colab-df-convert');\n",
              "        buttonEl.style.display =\n",
              "          google.colab.kernel.accessAllowed ? 'block' : 'none';\n",
              "\n",
              "        async function convertToInteractive(key) {\n",
              "          const element = document.querySelector('#df-2e6ee32a-811f-4efd-9e9e-bb50f0f2c4a8');\n",
              "          const dataTable =\n",
              "            await google.colab.kernel.invokeFunction('convertToInteractive',\n",
              "                                                     [key], {});\n",
              "          if (!dataTable) return;\n",
              "\n",
              "          const docLinkHtml = 'Like what you see? Visit the ' +\n",
              "            '<a target=\"_blank\" href=https://colab.research.google.com/notebooks/data_table.ipynb>data table notebook</a>'\n",
              "            + ' to learn more about interactive tables.';\n",
              "          element.innerHTML = '';\n",
              "          dataTable['output_type'] = 'display_data';\n",
              "          await google.colab.output.renderOutput(dataTable, element);\n",
              "          const docLink = document.createElement('div');\n",
              "          docLink.innerHTML = docLinkHtml;\n",
              "          element.appendChild(docLink);\n",
              "        }\n",
              "      </script>\n",
              "    </div>\n",
              "  </div>\n",
              "  "
            ]
          },
          "metadata": {},
          "execution_count": 7
        }
      ]
    },
    {
      "cell_type": "code",
      "source": [
        "def mean_5(a):\n",
        "  sum=0\n",
        "  for i in a:\n",
        "    sum=sum+i\n",
        "  return (sum/5)"
      ],
      "metadata": {
        "id": "9zsEyilX-Evf"
      },
      "execution_count": 8,
      "outputs": []
    },
    {
      "cell_type": "code",
      "source": [
        "df_agent_performance.groupby('Date_Week')['Average Rating'].apply(mean_5)"
      ],
      "metadata": {
        "colab": {
          "base_uri": "https://localhost:8080/"
        },
        "id": "TFFTlAuqFu-o",
        "outputId": "60428a0b-0805-4d39-bdac-f59509b6ed2d"
      },
      "execution_count": 9,
      "outputs": [
        {
          "output_type": "execute_result",
          "data": {
            "text/plain": [
              "Date_Week\n",
              "26     43.144\n",
              "27    139.774\n",
              "28    156.088\n",
              "29    152.348\n",
              "30    139.782\n",
              "Name: Average Rating, dtype: float64"
            ]
          },
          "metadata": {},
          "execution_count": 9
        }
      ]
    },
    {
      "cell_type": "code",
      "source": [
        "df_agent_performance.groupby('Date_Week')['Average Rating'].mean()"
      ],
      "metadata": {
        "colab": {
          "base_uri": "https://localhost:8080/"
        },
        "id": "ILCMevqZFyXk",
        "outputId": "5a2339b1-6e14-4ba7-9b1c-e691472982bb"
      },
      "execution_count": 10,
      "outputs": [
        {
          "output_type": "execute_result",
          "data": {
            "text/plain": [
              "Date_Week\n",
              "26    0.998704\n",
              "27    1.386647\n",
              "28    1.548492\n",
              "29    1.511389\n",
              "30    1.617847\n",
              "Name: Average Rating, dtype: float64"
            ]
          },
          "metadata": {},
          "execution_count": 10
        }
      ]
    },
    {
      "cell_type": "code",
      "source": [
        "mean_5(df_agent_performance['Average Rating'])"
      ],
      "metadata": {
        "colab": {
          "base_uri": "https://localhost:8080/"
        },
        "id": "GbN4SFwwGJt7",
        "outputId": "18072317-d9d4-438e-81f2-2731944c0788"
      },
      "execution_count": 11,
      "outputs": [
        {
          "output_type": "execute_result",
          "data": {
            "text/plain": [
              "631.1360000000002"
            ]
          },
          "metadata": {},
          "execution_count": 11
        }
      ]
    },
    {
      "cell_type": "markdown",
      "source": [
        "# 2. Total working days for each agents "
      ],
      "metadata": {
        "id": "GxrJ8lTgMFlq"
      }
    },
    {
      "cell_type": "code",
      "source": [
        "df_agent_login['Agent'].value_counts()"
      ],
      "metadata": {
        "colab": {
          "base_uri": "https://localhost:8080/"
        },
        "id": "3nlPrEDzGYbs",
        "outputId": "e0224ba6-6c85-4aae-af87-d58c1c488e39"
      },
      "execution_count": 12,
      "outputs": [
        {
          "output_type": "execute_result",
          "data": {
            "text/plain": [
              "Dibyanshu                 208\n",
              "Deepranjan Gupta           58\n",
              "Ishawant Kumar             49\n",
              "Saurabh Shukla             40\n",
              "Hrisikesh Neogi            37\n",
              "Anurag Tiwari              37\n",
              "Shivan K                   36\n",
              "Mahesh Sarade              36\n",
              "Shubham Sharma             35\n",
              "Prabir Kumar Satapathy     26\n",
              "Sowmiya Sivakumar          24\n",
              "Harikrishnan Shaji         23\n",
              "Sanjeev Kumar              20\n",
              "Wasim                      20\n",
              "Ayushi Mishra              18\n",
              "Prerna Singh               18\n",
              "Nishtha Jain               18\n",
              "Khushboo Priya             18\n",
              "Prateek _iot               17\n",
              "Madhulika G                17\n",
              "Boktiar Ahmed Bappy        17\n",
              "Jawala Prakash             16\n",
              "Shiva Srivastava           15\n",
              "Shivananda Sonwane         15\n",
              "Mithun S                   14\n",
              "Chaitra K Hiremath         13\n",
              "Muskan Garg                12\n",
              "Rishav Dash                12\n",
              "Jaydeep Dixit              11\n",
              "Nandani Gupta              11\n",
              "Sudhanshu Kumar            11\n",
              "Ameya Jain                 10\n",
              "Aravind                    10\n",
              "Saikumarreddy N            10\n",
              "Zeeshan                    10\n",
              "Bharath                     9\n",
              "Aditya_iot                  9\n",
              "Manjunatha A                8\n",
              "Suraj S Bilgi               5\n",
              "Maitry                      5\n",
              "Swati                       5\n",
              "Amersh                      4\n",
              "Ankitjha                    4\n",
              "Mukesh                      3\n",
              "Hyder Abbas                 2\n",
              "Aditya Shinde               1\n",
              "Nitin M                     1\n",
              "Ineuron Intelligence        1\n",
              "Tarun                       1\n",
              "Name: Agent, dtype: int64"
            ]
          },
          "metadata": {},
          "execution_count": 12
        }
      ]
    },
    {
      "cell_type": "markdown",
      "source": [
        "# **3. Total query that you have taken**"
      ],
      "metadata": {
        "id": "NEO2ztATOWy1"
      }
    },
    {
      "cell_type": "code",
      "source": [
        "df_agent_performance.groupby('Agent Name')['Total Chats'].sum()"
      ],
      "metadata": {
        "colab": {
          "base_uri": "https://localhost:8080/"
        },
        "id": "ylTrroFwNOAf",
        "outputId": "527484fd-cd5c-488e-b1da-5b8ca919623b"
      },
      "execution_count": 13,
      "outputs": [
        {
          "output_type": "execute_result",
          "data": {
            "text/plain": [
              "Agent Name\n",
              "Abhishek           0\n",
              "Aditya             0\n",
              "Aditya Shinde    277\n",
              "Aditya_iot       231\n",
              "Amersh             0\n",
              "                ... \n",
              "Uday Mishra        0\n",
              "Vasanth P          0\n",
              "Vivek             44\n",
              "Wasim            433\n",
              "Zeeshan          542\n",
              "Name: Total Chats, Length: 70, dtype: int64"
            ]
          },
          "metadata": {},
          "execution_count": 13
        }
      ]
    },
    {
      "cell_type": "markdown",
      "source": [
        "# **4. total Feedback that you have received**"
      ],
      "metadata": {
        "id": "VbdxVbqQLcfq"
      }
    },
    {
      "cell_type": "code",
      "source": [
        "df_agent_performance.groupby('Agent Name')['Total Feedback'].sum()"
      ],
      "metadata": {
        "colab": {
          "base_uri": "https://localhost:8080/"
        },
        "id": "Um8E0yTgLi3Z",
        "outputId": "f8b42df7-8af0-43cc-9db7-544bc7ac77a4"
      },
      "execution_count": 14,
      "outputs": [
        {
          "output_type": "execute_result",
          "data": {
            "text/plain": [
              "Agent Name\n",
              "Abhishek           0\n",
              "Aditya             0\n",
              "Aditya Shinde    153\n",
              "Aditya_iot       131\n",
              "Amersh             0\n",
              "                ... \n",
              "Uday Mishra        0\n",
              "Vasanth P          0\n",
              "Vivek             20\n",
              "Wasim            284\n",
              "Zeeshan          335\n",
              "Name: Total Feedback, Length: 70, dtype: int64"
            ]
          },
          "metadata": {},
          "execution_count": 14
        }
      ]
    },
    {
      "cell_type": "markdown",
      "source": [
        "# **5. a agent name who have average rating between 3.5 to 4**"
      ],
      "metadata": {
        "id": "SAPwHZZNLsXT"
      }
    },
    {
      "cell_type": "code",
      "source": [
        "df1 = df_agent_performance.groupby('Agent Name')['Average Rating'].mean()\n",
        "df1[ (df1 >= 3.5) & (df1 <=4)]"
      ],
      "metadata": {
        "colab": {
          "base_uri": "https://localhost:8080/"
        },
        "id": "ysxVVHI9LqyH",
        "outputId": "ac546a6a-eace-4b05-c5f1-a4f5b1ef1003"
      },
      "execution_count": 15,
      "outputs": [
        {
          "output_type": "execute_result",
          "data": {
            "text/plain": [
              "Agent Name\n",
              "Boktiar Ahmed Bappy    3.568000\n",
              "Ishawant Kumar         3.543333\n",
              "Khushboo Priya         3.703667\n",
              "Manjunatha A           3.594667\n",
              "Name: Average Rating, dtype: float64"
            ]
          },
          "metadata": {},
          "execution_count": 15
        }
      ]
    },
    {
      "cell_type": "markdown",
      "source": [
        "# **6. Agent name who have rating lesss then 3.5**"
      ],
      "metadata": {
        "id": "vTzECOtAMBQU"
      }
    },
    {
      "cell_type": "code",
      "source": [
        "df2 = df_agent_performance.groupby('Agent Name')['Average Rating'].mean()\n",
        "df2[ (df2 <= 3.5)]"
      ],
      "metadata": {
        "colab": {
          "base_uri": "https://localhost:8080/"
        },
        "id": "THUo7GfYL-AO",
        "outputId": "73bab7fb-f0d3-4437-c98a-f605e2df7a38"
      },
      "execution_count": 16,
      "outputs": [
        {
          "output_type": "execute_result",
          "data": {
            "text/plain": [
              "Agent Name\n",
              "Abhishek         0.000000\n",
              "Aditya           0.000000\n",
              "Aditya Shinde    1.800333\n",
              "Aditya_iot       2.345333\n",
              "Amersh           0.000000\n",
              "                   ...   \n",
              "Uday Mishra      0.000000\n",
              "Vasanth P        0.000000\n",
              "Vivek            0.500667\n",
              "Wasim            2.400000\n",
              "Zeeshan          2.287000\n",
              "Name: Average Rating, Length: 65, dtype: float64"
            ]
          },
          "metadata": {},
          "execution_count": 16
        }
      ]
    },
    {
      "cell_type": "markdown",
      "source": [
        "# **7. agent name who have rating more then 4.5**"
      ],
      "metadata": {
        "id": "sbrdNP8LM5uQ"
      }
    },
    {
      "cell_type": "code",
      "source": [
        "df3 = df_agent_performance.groupby('Agent Name')['Average Rating'].mean()\n",
        "df3[ (df3 >= 4.5)]"
      ],
      "metadata": {
        "colab": {
          "base_uri": "https://localhost:8080/"
        },
        "id": "ICWHPjqXM4Vs",
        "outputId": "5978542a-328c-4260-a4f7-5c420ce9b009"
      },
      "execution_count": 17,
      "outputs": [
        {
          "output_type": "execute_result",
          "data": {
            "text/plain": [
              "Series([], Name: Average Rating, dtype: float64)"
            ]
          },
          "metadata": {},
          "execution_count": 17
        }
      ]
    },
    {
      "cell_type": "markdown",
      "source": [
        "# **8. how many feedaback agents have received more then 4.5 average**"
      ],
      "metadata": {
        "id": "jd4O5F1kNFSq"
      }
    },
    {
      "cell_type": "code",
      "source": [
        "df_agent_performance[df_agent_performance['Average Rating'] >= 4.5].groupby('Agent Name')['Total Feedback'].sum()"
      ],
      "metadata": {
        "colab": {
          "base_uri": "https://localhost:8080/"
        },
        "id": "wNglC7ZCNENE",
        "outputId": "49c7d360-7828-4d01-8b7d-3d8cc4032449"
      },
      "execution_count": 18,
      "outputs": [
        {
          "output_type": "execute_result",
          "data": {
            "text/plain": [
              "Agent Name\n",
              "Aditya Shinde              73\n",
              "Aditya_iot                 43\n",
              "Ameya Jain                150\n",
              "Anirudh                     2\n",
              "Ankitjha                    1\n",
              "Aravind                   198\n",
              "Ayushi Mishra              75\n",
              "Bharath                   231\n",
              "Boktiar Ahmed Bappy        78\n",
              "Chaitra K Hiremath          5\n",
              "Deepranjan Gupta           83\n",
              "Harikrishnan Shaji         92\n",
              "Hrisikesh Neogi           183\n",
              "Ishawant Kumar             81\n",
              "Jawala Prakash             43\n",
              "Jayant Kumar                7\n",
              "Jaydeep Dixit             179\n",
              "Khushboo Priya            144\n",
              "Madhulika G                81\n",
              "Mahesh Sarade              50\n",
              "Maitry                     81\n",
              "Manjunatha A              132\n",
              "Mithun S                   93\n",
              "Mukesh                     17\n",
              "Mukesh Rao                  1\n",
              "Muskan Garg                14\n",
              "Nandani Gupta              91\n",
              "Nishtha Jain               30\n",
              "Prabir Kumar Satapathy     53\n",
              "Prateek _iot               54\n",
              "Prerna Singh              104\n",
              "Rishav Dash                37\n",
              "Saikumarreddy N           184\n",
              "Sandipan Saha               1\n",
              "Sanjeev Kumar             194\n",
              "Saurabh Shukla              3\n",
              "Shiva Srivastava           18\n",
              "Shivan K                  130\n",
              "Shivananda Sonwane        154\n",
              "Shubham Sharma            155\n",
              "Sowmiya Sivakumar          16\n",
              "Sudhanshu Kumar             2\n",
              "Suraj S Bilgi               4\n",
              "Swati                     103\n",
              "Vivek                       3\n",
              "Wasim                     156\n",
              "Zeeshan                    48\n",
              "Name: Total Feedback, dtype: int64"
            ]
          },
          "metadata": {},
          "execution_count": 18
        }
      ]
    },
    {
      "cell_type": "markdown",
      "source": [
        "# **9. average weekly response time for each agent**"
      ],
      "metadata": {
        "id": "kUSRrkDYOJ9g"
      }
    },
    {
      "cell_type": "code",
      "source": [
        "df_agent_performance['Average_Response_Time_Hours'] = df_agent_performance['Average Response Time'].str.split(':', expand= True)[0]\n",
        "df_agent_performance['Average_Response_Time_Minutes'] = df_agent_performance['Average Response Time'].str.split(':', expand= True)[1]\n",
        "df_agent_performance['Average_Response_Time_Seconds'] = df_agent_performance['Average Response Time'].str.split(':', expand= True)[2]\n",
        "df_agent_performance['Average_Response_Time_in_Seconds'] = df_agent_performance['Average_Response_Time_Hours'].astype(int)*24*60*60 + df_agent_performance['Average_Response_Time_Minutes'].astype(int)*60 + df_agent_performance['Average_Response_Time_Seconds'].astype(int)\n",
        "df_agent_performance.groupby(['Date_Week','Agent Name'])['Average_Response_Time_in_Seconds'].mean()"
      ],
      "metadata": {
        "colab": {
          "base_uri": "https://localhost:8080/"
        },
        "id": "ON7CaFtdSQ3h",
        "outputId": "198526ae-f52e-41e6-b3ae-c3e601cee4ba"
      },
      "execution_count": 19,
      "outputs": [
        {
          "output_type": "execute_result",
          "data": {
            "text/plain": [
              "Date_Week  Agent Name   \n",
              "26         Abhishek          0.000000\n",
              "           Aditya            0.000000\n",
              "           Aditya Shinde    55.333333\n",
              "           Aditya_iot        0.000000\n",
              "           Amersh            0.000000\n",
              "                              ...    \n",
              "30         Uday Mishra       0.000000\n",
              "           Vasanth P         0.000000\n",
              "           Vivek             0.000000\n",
              "           Wasim            50.500000\n",
              "           Zeeshan          63.833333\n",
              "Name: Average_Response_Time_in_Seconds, Length: 350, dtype: float64"
            ]
          },
          "metadata": {},
          "execution_count": 19
        }
      ]
    },
    {
      "cell_type": "markdown",
      "source": [
        "# **10. average weekely resolution time for each agents**"
      ],
      "metadata": {
        "id": "NWiRC-hnX0Qf"
      }
    },
    {
      "cell_type": "code",
      "source": [
        "df_agent_performance['Average_Resolution_Time_Hours'] = df_agent_performance['Average Resolution Time'].str.split(':', expand= True)[0]\n",
        "df_agent_performance['Average_Resolution_Time_Minutes'] = df_agent_performance['Average Resolution Time'].str.split(':', expand= True)[1]\n",
        "df_agent_performance['Average_Resolution_Time_Seconds'] = df_agent_performance['Average Resolution Time'].str.split(':', expand= True)[2]\n",
        "df_agent_performance['Average_Resolution_Time_in_Seconds'] = df_agent_performance['Average_Resolution_Time_Hours'].astype(int)*60*60 + df_agent_performance['Average_Resolution_Time_Minutes'].astype(int)*60 + df_agent_performance['Average_Resolution_Time_Seconds'].astype(int)\n",
        "df_agent_performance.groupby(['Date_Week','Agent Name'])['Average_Resolution_Time_in_Seconds'].mean()"
      ],
      "metadata": {
        "colab": {
          "base_uri": "https://localhost:8080/"
        },
        "id": "-JY1BsVAWv_o",
        "outputId": "1492d644-c3cf-40d2-d2d2-f41a11c33377"
      },
      "execution_count": 20,
      "outputs": [
        {
          "output_type": "execute_result",
          "data": {
            "text/plain": [
              "Date_Week  Agent Name   \n",
              "26         Abhishek            0.000000\n",
              "           Aditya              0.000000\n",
              "           Aditya Shinde     927.000000\n",
              "           Aditya_iot          0.000000\n",
              "           Amersh              0.000000\n",
              "                               ...     \n",
              "30         Uday Mishra         0.000000\n",
              "           Vasanth P           0.000000\n",
              "           Vivek               0.000000\n",
              "           Wasim            1054.833333\n",
              "           Zeeshan           773.500000\n",
              "Name: Average_Resolution_Time_in_Seconds, Length: 350, dtype: float64"
            ]
          },
          "metadata": {},
          "execution_count": 20
        }
      ]
    },
    {
      "cell_type": "markdown",
      "source": [
        "# **11. list of all agents name**"
      ],
      "metadata": {
        "id": "unXzqJn4YSsU"
      }
    },
    {
      "cell_type": "code",
      "source": [
        "l = list(df_agent_performance['Agent Name'].unique())\n",
        "print(l)"
      ],
      "metadata": {
        "colab": {
          "base_uri": "https://localhost:8080/"
        },
        "id": "B2eFAzW2YZSS",
        "outputId": "a9f619e5-9cd2-4458-b884-0e5f0b27ed44"
      },
      "execution_count": 21,
      "outputs": [
        {
          "output_type": "stream",
          "name": "stdout",
          "text": [
            "['Prerna Singh', 'Nandani Gupta', 'Ameya Jain', 'Mahesh Sarade', 'Swati ', 'Mukesh ', 'Saikumarreddy N', 'Sanjeev Kumar', 'Shubham Sharma', 'Nishtha Jain', 'Manjunatha A', 'Khushboo Priya', 'Suraj S Bilgi', 'Harikrishnan Shaji', 'Hrisikesh Neogi', 'Shivan K', 'Sowmiya Sivakumar', 'Madhulika G', 'Mithun S', 'Hitesh Choudhary', 'Sanjeevan ', 'Anirudh ', 'Shiva Srivastava', 'Dibyanshu ', 'Ashish ', 'Uday Mishra', 'Aditya Shinde', 'Jayant Kumar', 'Aditya_iot ', 'Prabir Kumar Satapathy', 'Saurabh Shukla', 'Wasim ', 'Samprit ', 'Maitry ', 'Abhishek ', 'Rishav Dash', 'Aravind ', 'Tarun ', 'Muskan Garg', 'Ankit Sharma', 'Bharath ', 'Ashad Nasim', 'Vasanth P', 'Aditya ', 'Amersh ', 'Sandipan Saha', 'Ineuron Intelligence ', 'Mahak ', 'Mukesh Rao ', 'Zeeshan ', 'Anurag Tiwari', 'Ankitjha ', 'Saif Khan', 'Jaydeep Dixit', 'Sudhanshu Kumar', 'Maneesh ', 'Hyder Abbas', 'Rohan ', 'Vivek ', 'Nitin M', 'Shivan_S ', 'Spuri ', 'Ayushi Mishra', 'Chaitra K Hiremath', 'Prateek _iot ', 'Boktiar Ahmed Bappy', 'Shivananda Sonwane', 'Ishawant Kumar', 'Deepranjan Gupta', 'Jawala Prakash']\n"
          ]
        }
      ]
    },
    {
      "cell_type": "markdown",
      "source": [
        "# **12. percentage of chat on which they have received a feedback**\n",
        "\n",
        "\n"
      ],
      "metadata": {
        "id": "GiTmDUPEY9zM"
      }
    },
    {
      "cell_type": "code",
      "source": [
        "df_agent_performance[df_agent_performance['Total Feedback'] !=0].groupby('Agent Name')['Total Chats'].apply(lambda x:100 * x / float(x.sum()))"
      ],
      "metadata": {
        "colab": {
          "base_uri": "https://localhost:8080/"
        },
        "id": "EOAm--bvZByX",
        "outputId": "c9963cc8-70fd-4815-fc2f-e2a4b5422a98"
      },
      "execution_count": 22,
      "outputs": [
        {
          "output_type": "execute_result",
          "data": {
            "text/plain": [
              "0         2.743142\n",
              "1         1.964286\n",
              "2         4.347826\n",
              "3         3.846154\n",
              "4         2.671756\n",
              "           ...    \n",
              "2101      4.882812\n",
              "2102      5.215420\n",
              "2103      5.405405\n",
              "2104      2.595156\n",
              "2105    100.000000\n",
              "Name: Total Chats, Length: 731, dtype: float64"
            ]
          },
          "metadata": {},
          "execution_count": 22
        }
      ]
    },
    {
      "cell_type": "markdown",
      "source": [
        "# **13. Total contributation hour for each and every agents weekly basis**"
      ],
      "metadata": {
        "id": "dKNFvUjwe1_g"
      }
    },
    {
      "cell_type": "code",
      "source": [
        "df_agent_login['Date_Week'] = pd.to_datetime(df_agent_login['Date']).dt.week\n",
        "df_agent_login.head()"
      ],
      "metadata": {
        "colab": {
          "base_uri": "https://localhost:8080/",
          "height": 261
        },
        "id": "DgUU1TLlfk7y",
        "outputId": "06445f7c-c078-473b-db17-fa86f19b7d46"
      },
      "execution_count": 23,
      "outputs": [
        {
          "output_type": "stream",
          "name": "stderr",
          "text": [
            "/usr/local/lib/python3.7/dist-packages/ipykernel_launcher.py:1: FutureWarning: Series.dt.weekofyear and Series.dt.week have been deprecated.  Please use Series.dt.isocalendar().week instead.\n",
            "  \"\"\"Entry point for launching an IPython kernel.\n"
          ]
        },
        {
          "output_type": "execute_result",
          "data": {
            "text/plain": [
              "   SL No               Agent       Date   Login Time  Logout Time  Duration  \\\n",
              "0      1  Shivananda Sonwane  30-Jul-22  03:35:29 PM  05:39:39 PM  02:04:10   \n",
              "1      2      Khushboo Priya  30-Jul-22  03:06:59 PM  03:07:16 PM  00:00:17   \n",
              "2      3       Nandani Gupta  30-Jul-22  03:04:24 PM  05:31:07 PM  02:26:42   \n",
              "3      4     Hrisikesh Neogi  30-Jul-22  02:34:29 PM  03:19:35 PM  00:45:06   \n",
              "4      5             Mukesh   30-Jul-22  02:03:15 PM  03:11:52 PM  01:08:36   \n",
              "\n",
              "   Date_Week  \n",
              "0         30  \n",
              "1         30  \n",
              "2         30  \n",
              "3         30  \n",
              "4         30  "
            ],
            "text/html": [
              "\n",
              "  <div id=\"df-94f804aa-d20c-4518-a247-30422842c020\">\n",
              "    <div class=\"colab-df-container\">\n",
              "      <div>\n",
              "<style scoped>\n",
              "    .dataframe tbody tr th:only-of-type {\n",
              "        vertical-align: middle;\n",
              "    }\n",
              "\n",
              "    .dataframe tbody tr th {\n",
              "        vertical-align: top;\n",
              "    }\n",
              "\n",
              "    .dataframe thead th {\n",
              "        text-align: right;\n",
              "    }\n",
              "</style>\n",
              "<table border=\"1\" class=\"dataframe\">\n",
              "  <thead>\n",
              "    <tr style=\"text-align: right;\">\n",
              "      <th></th>\n",
              "      <th>SL No</th>\n",
              "      <th>Agent</th>\n",
              "      <th>Date</th>\n",
              "      <th>Login Time</th>\n",
              "      <th>Logout Time</th>\n",
              "      <th>Duration</th>\n",
              "      <th>Date_Week</th>\n",
              "    </tr>\n",
              "  </thead>\n",
              "  <tbody>\n",
              "    <tr>\n",
              "      <th>0</th>\n",
              "      <td>1</td>\n",
              "      <td>Shivananda Sonwane</td>\n",
              "      <td>30-Jul-22</td>\n",
              "      <td>03:35:29 PM</td>\n",
              "      <td>05:39:39 PM</td>\n",
              "      <td>02:04:10</td>\n",
              "      <td>30</td>\n",
              "    </tr>\n",
              "    <tr>\n",
              "      <th>1</th>\n",
              "      <td>2</td>\n",
              "      <td>Khushboo Priya</td>\n",
              "      <td>30-Jul-22</td>\n",
              "      <td>03:06:59 PM</td>\n",
              "      <td>03:07:16 PM</td>\n",
              "      <td>00:00:17</td>\n",
              "      <td>30</td>\n",
              "    </tr>\n",
              "    <tr>\n",
              "      <th>2</th>\n",
              "      <td>3</td>\n",
              "      <td>Nandani Gupta</td>\n",
              "      <td>30-Jul-22</td>\n",
              "      <td>03:04:24 PM</td>\n",
              "      <td>05:31:07 PM</td>\n",
              "      <td>02:26:42</td>\n",
              "      <td>30</td>\n",
              "    </tr>\n",
              "    <tr>\n",
              "      <th>3</th>\n",
              "      <td>4</td>\n",
              "      <td>Hrisikesh Neogi</td>\n",
              "      <td>30-Jul-22</td>\n",
              "      <td>02:34:29 PM</td>\n",
              "      <td>03:19:35 PM</td>\n",
              "      <td>00:45:06</td>\n",
              "      <td>30</td>\n",
              "    </tr>\n",
              "    <tr>\n",
              "      <th>4</th>\n",
              "      <td>5</td>\n",
              "      <td>Mukesh</td>\n",
              "      <td>30-Jul-22</td>\n",
              "      <td>02:03:15 PM</td>\n",
              "      <td>03:11:52 PM</td>\n",
              "      <td>01:08:36</td>\n",
              "      <td>30</td>\n",
              "    </tr>\n",
              "  </tbody>\n",
              "</table>\n",
              "</div>\n",
              "      <button class=\"colab-df-convert\" onclick=\"convertToInteractive('df-94f804aa-d20c-4518-a247-30422842c020')\"\n",
              "              title=\"Convert this dataframe to an interactive table.\"\n",
              "              style=\"display:none;\">\n",
              "        \n",
              "  <svg xmlns=\"http://www.w3.org/2000/svg\" height=\"24px\"viewBox=\"0 0 24 24\"\n",
              "       width=\"24px\">\n",
              "    <path d=\"M0 0h24v24H0V0z\" fill=\"none\"/>\n",
              "    <path d=\"M18.56 5.44l.94 2.06.94-2.06 2.06-.94-2.06-.94-.94-2.06-.94 2.06-2.06.94zm-11 1L8.5 8.5l.94-2.06 2.06-.94-2.06-.94L8.5 2.5l-.94 2.06-2.06.94zm10 10l.94 2.06.94-2.06 2.06-.94-2.06-.94-.94-2.06-.94 2.06-2.06.94z\"/><path d=\"M17.41 7.96l-1.37-1.37c-.4-.4-.92-.59-1.43-.59-.52 0-1.04.2-1.43.59L10.3 9.45l-7.72 7.72c-.78.78-.78 2.05 0 2.83L4 21.41c.39.39.9.59 1.41.59.51 0 1.02-.2 1.41-.59l7.78-7.78 2.81-2.81c.8-.78.8-2.07 0-2.86zM5.41 20L4 18.59l7.72-7.72 1.47 1.35L5.41 20z\"/>\n",
              "  </svg>\n",
              "      </button>\n",
              "      \n",
              "  <style>\n",
              "    .colab-df-container {\n",
              "      display:flex;\n",
              "      flex-wrap:wrap;\n",
              "      gap: 12px;\n",
              "    }\n",
              "\n",
              "    .colab-df-convert {\n",
              "      background-color: #E8F0FE;\n",
              "      border: none;\n",
              "      border-radius: 50%;\n",
              "      cursor: pointer;\n",
              "      display: none;\n",
              "      fill: #1967D2;\n",
              "      height: 32px;\n",
              "      padding: 0 0 0 0;\n",
              "      width: 32px;\n",
              "    }\n",
              "\n",
              "    .colab-df-convert:hover {\n",
              "      background-color: #E2EBFA;\n",
              "      box-shadow: 0px 1px 2px rgba(60, 64, 67, 0.3), 0px 1px 3px 1px rgba(60, 64, 67, 0.15);\n",
              "      fill: #174EA6;\n",
              "    }\n",
              "\n",
              "    [theme=dark] .colab-df-convert {\n",
              "      background-color: #3B4455;\n",
              "      fill: #D2E3FC;\n",
              "    }\n",
              "\n",
              "    [theme=dark] .colab-df-convert:hover {\n",
              "      background-color: #434B5C;\n",
              "      box-shadow: 0px 1px 3px 1px rgba(0, 0, 0, 0.15);\n",
              "      filter: drop-shadow(0px 1px 2px rgba(0, 0, 0, 0.3));\n",
              "      fill: #FFFFFF;\n",
              "    }\n",
              "  </style>\n",
              "\n",
              "      <script>\n",
              "        const buttonEl =\n",
              "          document.querySelector('#df-94f804aa-d20c-4518-a247-30422842c020 button.colab-df-convert');\n",
              "        buttonEl.style.display =\n",
              "          google.colab.kernel.accessAllowed ? 'block' : 'none';\n",
              "\n",
              "        async function convertToInteractive(key) {\n",
              "          const element = document.querySelector('#df-94f804aa-d20c-4518-a247-30422842c020');\n",
              "          const dataTable =\n",
              "            await google.colab.kernel.invokeFunction('convertToInteractive',\n",
              "                                                     [key], {});\n",
              "          if (!dataTable) return;\n",
              "\n",
              "          const docLinkHtml = 'Like what you see? Visit the ' +\n",
              "            '<a target=\"_blank\" href=https://colab.research.google.com/notebooks/data_table.ipynb>data table notebook</a>'\n",
              "            + ' to learn more about interactive tables.';\n",
              "          element.innerHTML = '';\n",
              "          dataTable['output_type'] = 'display_data';\n",
              "          await google.colab.output.renderOutput(dataTable, element);\n",
              "          const docLink = document.createElement('div');\n",
              "          docLink.innerHTML = docLinkHtml;\n",
              "          element.appendChild(docLink);\n",
              "        }\n",
              "      </script>\n",
              "    </div>\n",
              "  </div>\n",
              "  "
            ]
          },
          "metadata": {},
          "execution_count": 23
        }
      ]
    },
    {
      "cell_type": "code",
      "source": [
        "df_agent_login['Duration_Hours'] = df_agent_login['Duration'].str.split(':', expand= True)[0]\n",
        "df_agent_login['Duration_Minutes'] = df_agent_login['Duration'].str.split(':', expand= True)[1]\n",
        "df_agent_login['Duration_Seconds'] = df_agent_login['Duration'].str.split(':', expand= True)[2]\n",
        "df_agent_login['Duration_in_Hours'] = df_agent_login['Duration_Hours'].astype(int) + df_agent_login['Duration_Minutes'].astype(int)/60 + df_agent_login['Duration_Seconds'].astype(int)/(60*60)\n",
        "df_agent_login.groupby(['Date_Week','Agent'])['Duration_in_Hours'].sum()"
      ],
      "metadata": {
        "colab": {
          "base_uri": "https://localhost:8080/"
        },
        "id": "ZDQAnoUpej3C",
        "outputId": "23678fa0-c635-4e42-e9b5-1ae3c882fe0c"
      },
      "execution_count": 24,
      "outputs": [
        {
          "output_type": "execute_result",
          "data": {
            "text/plain": [
              "Date_Week  Agent          \n",
              "26         Tarun              514.138889\n",
              "29         Aditya_iot           6.095278\n",
              "           Ameya Jain          24.083056\n",
              "           Anurag Tiwari        0.264444\n",
              "           Aravind             24.235556\n",
              "                                 ...    \n",
              "30         Sudhanshu Kumar     21.776389\n",
              "           Suraj S Bilgi       12.559167\n",
              "           Swati                6.142500\n",
              "           Wasim               28.553611\n",
              "           Zeeshan             24.661111\n",
              "Name: Duration_in_Hours, Length: 89, dtype: float64"
            ]
          },
          "metadata": {},
          "execution_count": 24
        }
      ]
    },
    {
      "cell_type": "markdown",
      "source": [
        "# **14. total percentage of active hour for a month** "
      ],
      "metadata": {
        "id": "dGYl4QQihQMO"
      }
    },
    {
      "cell_type": "code",
      "source": [
        "df_agent_login['Date_Month'] = pd.to_datetime(df_agent_login['Date']).dt.month\n",
        "df_agent_login.head()"
      ],
      "metadata": {
        "colab": {
          "base_uri": "https://localhost:8080/",
          "height": 354
        },
        "id": "Xfp4w-FjbLqd",
        "outputId": "677df6ba-37e5-457e-8cb1-c4e391f3f5db"
      },
      "execution_count": 25,
      "outputs": [
        {
          "output_type": "execute_result",
          "data": {
            "text/plain": [
              "   SL No               Agent       Date   Login Time  Logout Time  Duration  \\\n",
              "0      1  Shivananda Sonwane  30-Jul-22  03:35:29 PM  05:39:39 PM  02:04:10   \n",
              "1      2      Khushboo Priya  30-Jul-22  03:06:59 PM  03:07:16 PM  00:00:17   \n",
              "2      3       Nandani Gupta  30-Jul-22  03:04:24 PM  05:31:07 PM  02:26:42   \n",
              "3      4     Hrisikesh Neogi  30-Jul-22  02:34:29 PM  03:19:35 PM  00:45:06   \n",
              "4      5             Mukesh   30-Jul-22  02:03:15 PM  03:11:52 PM  01:08:36   \n",
              "\n",
              "   Date_Week Duration_Hours Duration_Minutes Duration_Seconds  \\\n",
              "0         30             02               04               10   \n",
              "1         30             00               00               17   \n",
              "2         30             02               26               42   \n",
              "3         30             00               45               06   \n",
              "4         30             01               08               36   \n",
              "\n",
              "   Duration_in_Hours  Date_Month  \n",
              "0           2.069444           7  \n",
              "1           0.004722           7  \n",
              "2           2.445000           7  \n",
              "3           0.751667           7  \n",
              "4           1.143333           7  "
            ],
            "text/html": [
              "\n",
              "  <div id=\"df-0a26e8d1-0e0c-4940-9030-7254e4f5e51e\">\n",
              "    <div class=\"colab-df-container\">\n",
              "      <div>\n",
              "<style scoped>\n",
              "    .dataframe tbody tr th:only-of-type {\n",
              "        vertical-align: middle;\n",
              "    }\n",
              "\n",
              "    .dataframe tbody tr th {\n",
              "        vertical-align: top;\n",
              "    }\n",
              "\n",
              "    .dataframe thead th {\n",
              "        text-align: right;\n",
              "    }\n",
              "</style>\n",
              "<table border=\"1\" class=\"dataframe\">\n",
              "  <thead>\n",
              "    <tr style=\"text-align: right;\">\n",
              "      <th></th>\n",
              "      <th>SL No</th>\n",
              "      <th>Agent</th>\n",
              "      <th>Date</th>\n",
              "      <th>Login Time</th>\n",
              "      <th>Logout Time</th>\n",
              "      <th>Duration</th>\n",
              "      <th>Date_Week</th>\n",
              "      <th>Duration_Hours</th>\n",
              "      <th>Duration_Minutes</th>\n",
              "      <th>Duration_Seconds</th>\n",
              "      <th>Duration_in_Hours</th>\n",
              "      <th>Date_Month</th>\n",
              "    </tr>\n",
              "  </thead>\n",
              "  <tbody>\n",
              "    <tr>\n",
              "      <th>0</th>\n",
              "      <td>1</td>\n",
              "      <td>Shivananda Sonwane</td>\n",
              "      <td>30-Jul-22</td>\n",
              "      <td>03:35:29 PM</td>\n",
              "      <td>05:39:39 PM</td>\n",
              "      <td>02:04:10</td>\n",
              "      <td>30</td>\n",
              "      <td>02</td>\n",
              "      <td>04</td>\n",
              "      <td>10</td>\n",
              "      <td>2.069444</td>\n",
              "      <td>7</td>\n",
              "    </tr>\n",
              "    <tr>\n",
              "      <th>1</th>\n",
              "      <td>2</td>\n",
              "      <td>Khushboo Priya</td>\n",
              "      <td>30-Jul-22</td>\n",
              "      <td>03:06:59 PM</td>\n",
              "      <td>03:07:16 PM</td>\n",
              "      <td>00:00:17</td>\n",
              "      <td>30</td>\n",
              "      <td>00</td>\n",
              "      <td>00</td>\n",
              "      <td>17</td>\n",
              "      <td>0.004722</td>\n",
              "      <td>7</td>\n",
              "    </tr>\n",
              "    <tr>\n",
              "      <th>2</th>\n",
              "      <td>3</td>\n",
              "      <td>Nandani Gupta</td>\n",
              "      <td>30-Jul-22</td>\n",
              "      <td>03:04:24 PM</td>\n",
              "      <td>05:31:07 PM</td>\n",
              "      <td>02:26:42</td>\n",
              "      <td>30</td>\n",
              "      <td>02</td>\n",
              "      <td>26</td>\n",
              "      <td>42</td>\n",
              "      <td>2.445000</td>\n",
              "      <td>7</td>\n",
              "    </tr>\n",
              "    <tr>\n",
              "      <th>3</th>\n",
              "      <td>4</td>\n",
              "      <td>Hrisikesh Neogi</td>\n",
              "      <td>30-Jul-22</td>\n",
              "      <td>02:34:29 PM</td>\n",
              "      <td>03:19:35 PM</td>\n",
              "      <td>00:45:06</td>\n",
              "      <td>30</td>\n",
              "      <td>00</td>\n",
              "      <td>45</td>\n",
              "      <td>06</td>\n",
              "      <td>0.751667</td>\n",
              "      <td>7</td>\n",
              "    </tr>\n",
              "    <tr>\n",
              "      <th>4</th>\n",
              "      <td>5</td>\n",
              "      <td>Mukesh</td>\n",
              "      <td>30-Jul-22</td>\n",
              "      <td>02:03:15 PM</td>\n",
              "      <td>03:11:52 PM</td>\n",
              "      <td>01:08:36</td>\n",
              "      <td>30</td>\n",
              "      <td>01</td>\n",
              "      <td>08</td>\n",
              "      <td>36</td>\n",
              "      <td>1.143333</td>\n",
              "      <td>7</td>\n",
              "    </tr>\n",
              "  </tbody>\n",
              "</table>\n",
              "</div>\n",
              "      <button class=\"colab-df-convert\" onclick=\"convertToInteractive('df-0a26e8d1-0e0c-4940-9030-7254e4f5e51e')\"\n",
              "              title=\"Convert this dataframe to an interactive table.\"\n",
              "              style=\"display:none;\">\n",
              "        \n",
              "  <svg xmlns=\"http://www.w3.org/2000/svg\" height=\"24px\"viewBox=\"0 0 24 24\"\n",
              "       width=\"24px\">\n",
              "    <path d=\"M0 0h24v24H0V0z\" fill=\"none\"/>\n",
              "    <path d=\"M18.56 5.44l.94 2.06.94-2.06 2.06-.94-2.06-.94-.94-2.06-.94 2.06-2.06.94zm-11 1L8.5 8.5l.94-2.06 2.06-.94-2.06-.94L8.5 2.5l-.94 2.06-2.06.94zm10 10l.94 2.06.94-2.06 2.06-.94-2.06-.94-.94-2.06-.94 2.06-2.06.94z\"/><path d=\"M17.41 7.96l-1.37-1.37c-.4-.4-.92-.59-1.43-.59-.52 0-1.04.2-1.43.59L10.3 9.45l-7.72 7.72c-.78.78-.78 2.05 0 2.83L4 21.41c.39.39.9.59 1.41.59.51 0 1.02-.2 1.41-.59l7.78-7.78 2.81-2.81c.8-.78.8-2.07 0-2.86zM5.41 20L4 18.59l7.72-7.72 1.47 1.35L5.41 20z\"/>\n",
              "  </svg>\n",
              "      </button>\n",
              "      \n",
              "  <style>\n",
              "    .colab-df-container {\n",
              "      display:flex;\n",
              "      flex-wrap:wrap;\n",
              "      gap: 12px;\n",
              "    }\n",
              "\n",
              "    .colab-df-convert {\n",
              "      background-color: #E8F0FE;\n",
              "      border: none;\n",
              "      border-radius: 50%;\n",
              "      cursor: pointer;\n",
              "      display: none;\n",
              "      fill: #1967D2;\n",
              "      height: 32px;\n",
              "      padding: 0 0 0 0;\n",
              "      width: 32px;\n",
              "    }\n",
              "\n",
              "    .colab-df-convert:hover {\n",
              "      background-color: #E2EBFA;\n",
              "      box-shadow: 0px 1px 2px rgba(60, 64, 67, 0.3), 0px 1px 3px 1px rgba(60, 64, 67, 0.15);\n",
              "      fill: #174EA6;\n",
              "    }\n",
              "\n",
              "    [theme=dark] .colab-df-convert {\n",
              "      background-color: #3B4455;\n",
              "      fill: #D2E3FC;\n",
              "    }\n",
              "\n",
              "    [theme=dark] .colab-df-convert:hover {\n",
              "      background-color: #434B5C;\n",
              "      box-shadow: 0px 1px 3px 1px rgba(0, 0, 0, 0.15);\n",
              "      filter: drop-shadow(0px 1px 2px rgba(0, 0, 0, 0.3));\n",
              "      fill: #FFFFFF;\n",
              "    }\n",
              "  </style>\n",
              "\n",
              "      <script>\n",
              "        const buttonEl =\n",
              "          document.querySelector('#df-0a26e8d1-0e0c-4940-9030-7254e4f5e51e button.colab-df-convert');\n",
              "        buttonEl.style.display =\n",
              "          google.colab.kernel.accessAllowed ? 'block' : 'none';\n",
              "\n",
              "        async function convertToInteractive(key) {\n",
              "          const element = document.querySelector('#df-0a26e8d1-0e0c-4940-9030-7254e4f5e51e');\n",
              "          const dataTable =\n",
              "            await google.colab.kernel.invokeFunction('convertToInteractive',\n",
              "                                                     [key], {});\n",
              "          if (!dataTable) return;\n",
              "\n",
              "          const docLinkHtml = 'Like what you see? Visit the ' +\n",
              "            '<a target=\"_blank\" href=https://colab.research.google.com/notebooks/data_table.ipynb>data table notebook</a>'\n",
              "            + ' to learn more about interactive tables.';\n",
              "          element.innerHTML = '';\n",
              "          dataTable['output_type'] = 'display_data';\n",
              "          await google.colab.output.renderOutput(dataTable, element);\n",
              "          const docLink = document.createElement('div');\n",
              "          docLink.innerHTML = docLinkHtml;\n",
              "          element.appendChild(docLink);\n",
              "        }\n",
              "      </script>\n",
              "    </div>\n",
              "  </div>\n",
              "  "
            ]
          },
          "metadata": {},
          "execution_count": 25
        }
      ]
    },
    {
      "cell_type": "code",
      "source": [
        "df_agent_login.groupby(['Date_Month','Agent'])['Duration_in_Hours'].sum()*(100/(30*8))"
      ],
      "metadata": {
        "colab": {
          "base_uri": "https://localhost:8080/"
        },
        "id": "qMY1fKeYhvBO",
        "outputId": "58adc7c2-9daf-4edc-8414-c9ab1ef7f2e8"
      },
      "execution_count": 26,
      "outputs": [
        {
          "output_type": "execute_result",
          "data": {
            "text/plain": [
              "Date_Month  Agent                 \n",
              "7           Aditya Shinde               0.015046\n",
              "            Aditya_iot                  6.554630\n",
              "            Amersh                      1.276620\n",
              "            Ameya Jain                 17.531481\n",
              "            Ankitjha                    0.944560\n",
              "            Anurag Tiwari               1.157870\n",
              "            Aravind                    10.124653\n",
              "            Ayushi Mishra              15.884028\n",
              "            Bharath                    20.031944\n",
              "            Boktiar Ahmed Bappy        16.778588\n",
              "            Chaitra K Hiremath         14.302315\n",
              "            Deepranjan Gupta           44.281366\n",
              "            Dibyanshu                  21.914931\n",
              "            Harikrishnan Shaji         22.381134\n",
              "            Hrisikesh Neogi            23.986921\n",
              "            Hyder Abbas                 0.161690\n",
              "            Ineuron Intelligence        0.603588\n",
              "            Ishawant Kumar             21.574537\n",
              "            Jawala Prakash             19.334259\n",
              "            Jaydeep Dixit              24.933565\n",
              "            Khushboo Priya             18.149421\n",
              "            Madhulika G                19.191782\n",
              "            Mahesh Sarade              17.884144\n",
              "            Maitry                     12.893750\n",
              "            Manjunatha A               17.197801\n",
              "            Mithun S                   18.822338\n",
              "            Mukesh                      3.710417\n",
              "            Muskan Garg                 7.223148\n",
              "            Nandani Gupta              16.738426\n",
              "            Nishtha Jain               18.271991\n",
              "            Nitin M                     0.332870\n",
              "            Prabir Kumar Satapathy     13.907176\n",
              "            Prateek _iot                7.674190\n",
              "            Prerna Singh               19.048148\n",
              "            Rishav Dash                17.406481\n",
              "            Saikumarreddy N            17.973958\n",
              "            Sanjeev Kumar              18.619676\n",
              "            Saurabh Shukla              6.942940\n",
              "            Shiva Srivastava            6.247569\n",
              "            Shivan K                   15.042593\n",
              "            Shivananda Sonwane         20.536574\n",
              "            Shubham Sharma             22.415972\n",
              "            Sowmiya Sivakumar          18.647569\n",
              "            Sudhanshu Kumar            19.262963\n",
              "            Suraj S Bilgi               5.232986\n",
              "            Swati                      10.417130\n",
              "            Tarun                     214.224537\n",
              "            Wasim                      20.074653\n",
              "            Zeeshan                    20.453588\n",
              "Name: Duration_in_Hours, dtype: float64"
            ]
          },
          "metadata": {},
          "execution_count": 26
        }
      ]
    }
  ]
}